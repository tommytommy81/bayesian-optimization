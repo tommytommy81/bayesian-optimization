{
 "cells": [
  {
   "cell_type": "code",
   "execution_count": 8,
   "id": "2ba046d0",
   "metadata": {},
   "outputs": [],
   "source": [
    "# Import necessary libraries\n",
    "import pandas as pd\n",
    "import numpy as np\n",
    "import pickle\n",
    "import matplotlib.pyplot as plt\n",
    "import json\n",
    "import os\n",
    "import seaborn as sns\n",
    "import openpyxl\n",
    "\n",
    "# import pymc as pm\n",
    "# import arviz as az\n",
    "# import stan\n",
    "# import aesara.tensor as at\n",
    "# import nest_asyncio\n",
    "\n",
    "from scipy.special import ndtri\n",
    "from scipy.stats import norm, lognorm\n",
    "from scipy.optimize import minimize\n",
    "\n",
    "from sklearn.metrics import roc_auc_score\n",
    "\n",
    "import time\n",
    "\n",
    "# from utils import stan_wrapper, stan_visualize_out, stan_predict, \\\n",
    "#     pymc_wrapper, pymc_predict, MLS_wrapper, minimize_predict"
   ]
  },
  {
   "cell_type": "code",
   "execution_count": 15,
   "id": "2ebcb6ce",
   "metadata": {},
   "outputs": [],
   "source": [
    "# MLS model\n",
    "def MLS_wrapper(df, x0, distro_estimates):\n",
    "    \n",
    "    # # Calculate eta (perceived probability of a successful investment due ambiguity).\n",
    "    # def calc_eta(green, red, theta, prob_ambi=None):\n",
    "    #     ''' Calculates the eta given prob_win, prob_loss, and ambiguity. theta is estimated.'''\n",
    "    #     if prob_ambi==None:\n",
    "    #         return round(green + (1-green-red)*theta,3)\n",
    "    #     else:\n",
    "    #         # if prob_ambi+red+green!=1:\n",
    "    #         #     print(f'Probabilities do not add up to 0: {prob_ambi+red+green}')\n",
    "    #         return round(green + prob_ambi*theta,3)\n",
    "\n",
    "    # # Calculate subject probability (using the perceived eta).\n",
    "    # def calc_subj_prob(prob, gamma=1):\n",
    "    #     ''' Converts the preceived probabilities to subjective probability. gamma is estimated.'''\n",
    "    #     return prob**gamma/(prob**gamma + (1-prob)**gamma)**(1/gamma)\n",
    "\n",
    "    # # Calculating the subjective value of losses and gains. Lambda estimated\n",
    "    # def calc_subj_values(x, Lambda, alpha, beta):\n",
    "    #     ''' Calculates the subjective value of gains and losses, given an alpha parameter. Lambda estimate. Alpha could be estimated but used as constant=0.9.'''\n",
    "    #     if x >= 0:\n",
    "    #         return x**alpha\n",
    "    #     else:\n",
    "    #         return -Lambda*(-x)**beta\n",
    "\n",
    "    # # Calculating prospect utility.\n",
    "    # def calc_pt_utility(gain, loss, prob_win, prob_loss, theta, Lambda, alpha, beta, gamma=1, prob_ambi=None):\n",
    "    #     ''' Calculates the prospect theory utility of investing. Losses are negative numbers and we just add all the outcomes*probabilities.'''\n",
    "    #     # print(max(0,calc_eta(prob_win, prob_loss, theta, prob_ambi)))\n",
    "    #     # print(min(max(0,calc_eta(prob_win, prob_loss, theta, prob_ambi)),1))\n",
    "    #     prob_g = calc_eta(prob_win, prob_loss, theta, prob_ambi).clip(0,1)\n",
    "    #     prob_l = calc_eta(prob_loss, prob_win, 1-theta, prob_ambi).clip(0,1)\n",
    "    #     pt_u   = calc_subj_values(gain, Lambda, alpha, beta) * calc_subj_prob(prob_g, gamma=gamma) + calc_subj_values(loss, Lambda, alpha, beta) * calc_subj_prob(prob_l, gamma=gamma)\n",
    "    #     return pt_u\n",
    "\n",
    "    # # Calculating the probability to invest.\n",
    "    # def calc_prob_invest_data(invest,utility,tau,error):\n",
    "    #     yy = 2*invest-1\n",
    "    #     return (1)/(1+np.exp(-tau*(utility-error)*yy))\n",
    "\n",
    "    # # classify whether somebody invests or not.\n",
    "    # def likelihood_data(invest,gain, loss, prob_win, prob_loss, theta, Lambda, tau, alpha, beta, gamma,error):\n",
    "    #     ''' Function to determine if someone would invest in the gamble given theta, gamma, lambda, and tau.'''\n",
    "    #     utility = calc_pt_utility(gain, loss, prob_win, prob_loss, theta, Lambda, alpha, beta, gamma)\n",
    "    #     probability = calc_prob_invest_data(invest,utility,tau, error)\n",
    "    #     return probability\n",
    "    \n",
    "    \n",
    "    # def lognormal_pdf(value, mu, sigma):\n",
    "    #     ''' Function to calculate the lognormal density'''\n",
    "    #     shape  = sigma\n",
    "    #     loc    = 0\n",
    "    #     scale  = np.exp(mu)\n",
    "    #     return lognorm.pdf(value, shape, loc, scale)\n",
    "\n",
    "    # def normal_pdf(value, mu, sigma):\n",
    "    #     ''' Function to calculate the lognormal density'''\n",
    "    #     loc    = 0\n",
    "    #     scale  = sigma\n",
    "    #     return norm.pdf(value, loc, scale)\n",
    "    \n",
    "    \n",
    "    def lognormal_pdf(value, mu, sigma):\n",
    "        ''' Function to calculate the lognormal density'''\n",
    "        shape  = sigma\n",
    "        loc    = 0\n",
    "        scale  = np.exp(mu)\n",
    "        return lognorm.pdf(value, shape, loc, scale)\n",
    "\n",
    "    def normal_pdf(value, mu, sigma):\n",
    "        ''' Function to calculate the lognormal density'''\n",
    "        loc    = 0\n",
    "        scale  = sigma\n",
    "        return norm.pdf(value, loc, scale)\n",
    "\n",
    "    ## Functions for calculating the probability\n",
    "    # Calculate eta (perceived probability of a successful investment due ambiguity).\n",
    "    def calc_eta(green, red, theta, prob_ambi=None):\n",
    "        ''' Calculates the eta given prob_win, prob_loss, and ambiguity. theta is estimated.'''\n",
    "        if prob_ambi==None:\n",
    "            return round(green + (1-green-red)*theta,3)\n",
    "        else:\n",
    "            # if prob_ambi+red+green!=1:\n",
    "            #     print(f'Probabilities do not add up to 0: {prob_ambi+red+green}')\n",
    "            return round(green + prob_ambi*theta,3)\n",
    "\n",
    "    # Calculate subject probability (using the perceived eta).\n",
    "    def calc_subj_prob(prob, gamma=1):\n",
    "        ''' Converts the preceived probabilities to subjective probability. gamma is estimated.'''\n",
    "        return prob**gamma/(prob**gamma + (1-prob)**gamma)**(1/gamma)\n",
    "\n",
    "    # Calculating the subjective value of losses and gains. Lambda estimated\n",
    "    def calc_subj_values(x, Lambda, alpha, beta):\n",
    "        ''' Calculates the subjective value of gains and losses, given an alpha parameter. Lambda estimate. Alpha could be estimated but used as constant=0.9.'''\n",
    "        if x >= 0:\n",
    "            return x**alpha\n",
    "        else:\n",
    "            return -Lambda*(-x)**beta\n",
    "\n",
    "    # Calculating prospect utility.\n",
    "    def calc_pt_utility(gain, loss, prob_win, prob_loss, theta, Lambda, alpha, beta, gamma=1, prob_ambi=None):\n",
    "        ''' Calculates the prospect theory utility of investing. Losses are negative numbers and we just add all the outcomes*probabilities.'''\n",
    "        # print(max(0,calc_eta(prob_win, prob_loss, theta, prob_ambi)))\n",
    "        # print(min(max(0,calc_eta(prob_win, prob_loss, theta, prob_ambi)),1))\n",
    "        prob_g = calc_eta(prob_win, prob_loss, theta, prob_ambi).clip(0,1)\n",
    "        prob_l = calc_eta(prob_loss, prob_win, 1-theta, prob_ambi).clip(0,1)\n",
    "        pt_u   = calc_subj_values(gain, Lambda, alpha, beta) * calc_subj_prob(prob_g, gamma=gamma) + calc_subj_values(loss, Lambda, alpha, beta) * calc_subj_prob(prob_l, gamma=gamma)\n",
    "        return pt_u\n",
    "\n",
    "    # Calculating the probability to invest.\n",
    "    def calc_prob_invest_data(invest,utility,tau,error):\n",
    "        yy = 2*invest-1\n",
    "        return (1)/(1+np.exp(-tau*(utility-error)*yy))\n",
    "\n",
    "    # classify whether somebody invests or not.\n",
    "    def likelihood_data(invest,gain, loss, prob_win, prob_loss, theta, Lambda, tau, alpha, beta, gamma,error):\n",
    "        ''' Function to determine if someone would invest in the gamble given theta, gamma, lambda, and tau.'''\n",
    "        utility = calc_pt_utility(gain, loss, prob_win, prob_loss, theta, Lambda, alpha, beta, gamma)\n",
    "        probability = calc_prob_invest_data(invest,utility,tau, error)\n",
    "        return probability\n",
    "\n",
    "    \n",
    "    \n",
    "    def log_likelihood_subject(param_list, sub_df, distro_estimates):\n",
    "        ''' This is the functions that is going to minimized'''\n",
    "        # initialize and collect\n",
    "        FACTOR = 1\n",
    "        df = sub_df.copy(True)\n",
    "        parameters = {}\n",
    "        lognormal_values = {}\n",
    "        \n",
    "        # PARAMETERS\n",
    "        for idx, param in enumerate(['theta', 'Lambda', 'tau', 'alpha', 'gamma', 'error']):\n",
    "            parameters[param] = param_list[idx]\n",
    "        # parameters['tau'] = .28    \n",
    "        parameters['beta'] = .88\n",
    "        \n",
    "        # calculate the likelihood of the data given the parameters\n",
    "        df['ll_data'] = df.apply(lambda x: likelihood_data(x['invest'], \n",
    "                                                        x['gain']*FACTOR, \n",
    "                                                        x['loss']*FACTOR,\n",
    "                                                        x['prob_win'], \n",
    "                                                        x['prob_loss'],\n",
    "                                                            parameters['theta'], \n",
    "                                                            parameters['Lambda'], \n",
    "                                                            parameters['tau'], \n",
    "                                                            parameters['alpha'], \n",
    "                                                            parameters['beta'], \n",
    "                                                            parameters['gamma'],\n",
    "                                                            parameters['error']), axis=1)\n",
    "\n",
    "        # calculate the lognormal distribution weights\n",
    "        for par in ['theta', 'Lambda', 'tau', 'alpha', 'gamma']:\n",
    "            lognormal_values[par] = lognormal_pdf(parameters[par], distro_estimates['mu'][par], distro_estimates['sigma'][par])\n",
    "        normal_values = normal_pdf(parameters['error'], 0, distro_estimates['sigma']['error'])\n",
    "        # take the log of the values and sum it\n",
    "        # take the log of the values and sum it\n",
    "        logsum = -(\n",
    "            np.log(df['ll_data']).sum()\n",
    "            + np.log(lognormal_values['theta'])\n",
    "            + np.log(lognormal_values['Lambda'])\n",
    "            + np.log(lognormal_values['tau'])\n",
    "            + np.log(lognormal_values['alpha'])\n",
    "            + np.log(lognormal_values['gamma'])\n",
    "            + np.log(normal_values)\n",
    "        )\n",
    "        return logsum\n",
    "\n",
    "    estimates = minimize(log_likelihood_subject, x0, args=(df, distro_estimates), method='nelder-mead', options={'xatol': 1e-8, 'disp': True, 'maxfev':1e5})\n",
    "    \n",
    "    return estimates\n",
    "\n",
    "\n",
    "\n",
    "\n",
    "def minimize_predict(estimates, df, FACTOR=1, beta=0.88):\n",
    "    \"\"\"\n",
    "    Function to predict using the PyMC model trace.\n",
    "    \"\"\"\n",
    "    # Extract the mean of the posterior samples for each parameter\n",
    "    theta, Lambda, tau, alpha, gamma, error = estimates.x\n",
    "        \n",
    "\n",
    "    predictions = []\n",
    "\n",
    "    for _, row in df.iterrows():\n",
    "        gain = row['gain'] * FACTOR\n",
    "        loss = row['loss'] * FACTOR \n",
    "        prob_win = row['prob_win']\n",
    "        prob_loss = row['prob_loss']\n",
    "        prob_ambi = row['prob_ambi']\n",
    "\n",
    "        def np_calc_subj_values(x, Lambda, alpha, beta):\n",
    "            return x**alpha if x >= 0 else -Lambda * ((-x)**beta)\n",
    "\n",
    "        def np_calc_eta(green, red, theta, prob_ambi):\n",
    "            return green + prob_ambi * theta\n",
    "\n",
    "        def np_calc_subj_prob(prob, gamma):\n",
    "            return prob**gamma / (prob**gamma + (1 - prob)**gamma)**(1/gamma)\n",
    "\n",
    "        prob_g = np.clip(np_calc_eta(prob_win, prob_loss, theta, prob_ambi), 0, 1)\n",
    "        prob_l = np.clip(np_calc_eta(prob_loss, prob_win, 1-theta, prob_ambi), 0, 1)\n",
    "        \n",
    "        subj_gain = np_calc_subj_values(gain, Lambda, alpha, beta)\n",
    "        subj_loss = np_calc_subj_values(loss, Lambda, alpha, beta)\n",
    "        subj_prob_g = np_calc_subj_prob(prob_g, gamma)\n",
    "        subj_prob_l = np_calc_subj_prob(prob_l, gamma)\n",
    "        utility = subj_gain * subj_prob_g + subj_loss * subj_prob_l\n",
    "\n",
    "        # Probability to invest\n",
    "        p_invest = 1 / (1 + np.exp(-tau * (utility - error)))\n",
    "        \n",
    "\n",
    "        # Predict invest = 1 if p_invest > 0.5, else 0\n",
    "        invest_pred = int(p_invest > 0.5)\n",
    "        predictions.append(invest_pred)\n",
    "        \n",
    "\n",
    "    return predictions\n",
    "\n",
    "\n",
    " "
   ]
  },
  {
   "cell_type": "code",
   "execution_count": 10,
   "id": "e19d5a32",
   "metadata": {},
   "outputs": [],
   "source": [
    "FACTOR = 1\n",
    "beta   = 0.88\n",
    "\n",
    "# 'DM_MODEL_THETA_MU': -1.14466507913457,\n",
    "# 'DM_MODEL_LAMBDA_MU': 0.7329797552975372,\n",
    "# 'DM_MODEL_TAU_MU': -1.96152338076932,\n",
    "# 'DM_MODEL_ALPHA_MU': -0.0352108814605467,\n",
    "# 'DM_MODEL_GAMMA_MU': -0.0406987697950696,\n",
    "# # DM model sigma parameters\n",
    "# 'DM_MODEL_THETA_SIGMA': 0.22880181248419162,\n",
    "# 'DM_MODEL_LAMBDA_SIGMA': 0.3858961064308266,\n",
    "# 'DM_MODEL_TAU_SIGMA': 0.295034654215115,\n",
    "# 'DM_MODEL_ALPHA_SIGMA': 0.038622471913964826,\n",
    "# 'DM_MODEL_GAMMA_SIGMA': 0.7086903259065194,\n",
    "# 'DM_MODEL_ERROR_SIGMA': 1.0180931324556557,\n",
    "\n",
    "mu_theta, mu_Lambda, mu_tau, mu_alpha, mu_gamma = -1.14466507913457, 0.7329797552975372, -1.96152338076932, -0.0352108814605467, -0.0406987697950696\n",
    "sig_theta, sig_Lambda, sig_tau, sig_alpha, sig_gamma = 0.22880181248419162, 0.3858961064308266,  0.295034654215115, 0.038622471913964826, 0.7086903259065194\n",
    "sig_error = 1.0180931324556557\n",
    "x0 = np.array([mu_theta, sig_theta, mu_Lambda, sig_Lambda, mu_tau, sig_tau, mu_alpha, sig_alpha, mu_gamma, sig_gamma, sig_error])\n",
    "\n",
    "distro_estimates = {'mu':{'theta': x0[0], 'Lambda': x0[2], 'tau': x0[4], 'alpha': x0[6], 'gamma': x0[8]},\n",
    "                         'sigma':{'theta': x0[1], 'Lambda': x0[3], 'tau': x0[5], 'alpha': x0[7],  'gamma': x0[9], 'error':x0[10]}}\n",
    "distro_estimates_export = pd.DataFrame(distro_estimates)\n",
    "distro_estimates_export['exp(mu)'] = np.exp(distro_estimates_export['mu'])\n",
    "distro_estimates_export.to_csv('distro_estimates_errors_tau_repeat.csv')\n",
    "distro_estimates_export\n",
    "\n",
    "\n",
    "THETA_INIT = 0.42\n",
    "LAMBDA_INIT = 1.6\n",
    "TAU_INIT = .28\n",
    "ALPHA_INIT = .9\n",
    "GAMMA_INIT = .7\n",
    "ERROR_INIT = 0\n",
    "\n",
    "\n",
    "INIT_VALUES = np.array([THETA_INIT, LAMBDA_INIT, TAU_INIT, ALPHA_INIT, GAMMA_INIT, ERROR_INIT])\n",
    "\n"
   ]
  },
  {
   "cell_type": "code",
   "execution_count": 11,
   "id": "75ae808f",
   "metadata": {},
   "outputs": [],
   "source": [
    "# data['dm_decision2']['invest']\n",
    "# data.keys()"
   ]
  },
  {
   "cell_type": "code",
   "execution_count": 12,
   "id": "17aff993",
   "metadata": {},
   "outputs": [],
   "source": [
    "data_dir = '/Users/administrator/MGME/Sandbox/DATA/HREvolutions'\n",
    "\n",
    "if 0:\n",
    "    corrected_version = False  # Set to 1 for the first version, 2 for the second version\n",
    "    correct_probs = pd.read_excel(os.path.join(data_dir, 'decision_making_004_50Trials_self.xlsx'), sheet_name='trials')\n",
    "\n",
    "    fname       = os.path.join(data_dir,'hr-evolutions_decision-making_seminar.csv')\n",
    "    activation_codes = pd.read_csv(fname)\n",
    "    activation_codes.head()\n",
    "\n",
    "    df_gallup = pd.DataFrame()\n",
    "\n",
    "\n",
    "    counter     = 0\n",
    "    location    = os.path.join(data_dir,'/Users/administrator/MGME/Sandbox/DATA/HREvolutions/individual_decision_files')\n",
    "\n",
    "    for fname in activation_codes['activation_code']:\n",
    "        counter += 1\n",
    "        print(f'Processing subject {counter} of {len(activation_codes)}: {fname}.json')\n",
    "        \n",
    "        if os.path.exists(os.path.join(location, fname+'.json')):\n",
    "            with open(os.path.join(location, fname+'.json'), 'r') as file:\n",
    "                data = json.load(file)\n",
    "                # Check the keys in the data\n",
    "                print(data['dm_decision1'].keys())\n",
    "                # Create DataFrame from dm_decision1\n",
    "                df_local = pd.DataFrame(data['dm_decision1'])\n",
    "                # Rename columns as an example\n",
    "                df_local = df_local.rename(columns={\n",
    "                    'probability_win_percent': 'prob_win',\n",
    "                    'probability_loss_percent': 'prob_loss',\n",
    "                    'potential_gain': 'gain',\n",
    "                    'potential_loss': 'loss'\n",
    "                })\n",
    "                df_local['prob_win'] = df_local['prob_win'] / 100\n",
    "                df_local['prob_loss'] = df_local['prob_loss'] / 100\n",
    "                df_local['gain'] = df_local['gain'] \n",
    "                df_local['loss'] = df_local['loss'] \n",
    "                \n",
    "                # Repeat the activation_codes row for this subject for each row in df_local\n",
    "                activation_row = activation_codes.loc[activation_codes['activation_code'] == fname].iloc[0]\n",
    "                for col in activation_codes.columns:\n",
    "                    df_local[col] = activation_row[col]\n",
    "\n",
    "                # Optionally reset index if you want a clean DataFrame\n",
    "                df_local = df_local.reset_index(drop=True)\n",
    "                df_local = df_local.rename(columns={\n",
    "                    'activation_code': 'subject'    })\n",
    "                \n",
    "                df_local = df_local[['subject'] + [col for col in df_local.columns if col != 'subject']]\n",
    "\n",
    "                if corrected_version:\n",
    "                    df_local['prob_win'] = correct_probs['probability_win_percent'].values / 100\n",
    "                    df_local['prob_ambi'] = (1 - df_local['prob_win'] - df_local['prob_loss']).round(3)\n",
    "                    \n",
    "                else:\n",
    "                    df_local['prob_ambi'] = 1 - df_local['prob_win'] - df_local['prob_loss']\n",
    "                        \n",
    "                df_gallup = pd.concat([df_gallup, df_local], ignore_index=True)\n",
    "\n",
    "    if corrected_version:\n",
    "        df_gallup.to_csv(os.path.join(data_dir, 'df_HREevolution.csv'), index=False)\n",
    "    else:\n",
    "        df_gallup.to_csv(os.path.join(data_dir, 'df_HREevolution2.csv'), index=False)\n",
    "\n",
    "else:\n",
    "    df_gallup = pd.read_csv(os.path.join(data_dir, 'df_HREevolution.csv'))\n",
    "    df_gallup2 = pd.read_csv(os.path.join(data_dir, 'df_HREevolution2.csv'))\n"
   ]
  },
  {
   "cell_type": "code",
   "execution_count": 13,
   "id": "5e3ad216",
   "metadata": {},
   "outputs": [
    {
     "data": {
      "application/vnd.microsoft.datawrangler.viewer.v0+json": {
       "columns": [
        {
         "name": "index",
         "rawType": "int64",
         "type": "integer"
        },
        {
         "name": "prob_win",
         "rawType": "float64",
         "type": "float"
        },
        {
         "name": "prob_loss",
         "rawType": "float64",
         "type": "float"
        },
        {
         "name": "prob_ambi",
         "rawType": "float64",
         "type": "float"
        }
       ],
       "ref": "ea887034-8ad8-4450-a1c2-faa0d4cb9b14",
       "rows": [
        [
         "0",
         "0.5",
         "0.0",
         "0.5"
        ],
        [
         "1",
         "0.1",
         "0.2",
         "0.7"
        ],
        [
         "2",
         "0.4",
         "0.5",
         "0.1"
        ],
        [
         "3",
         "0.1",
         "0.3",
         "0.6"
        ],
        [
         "4",
         "0.5",
         "0.5",
         "0.0"
        ],
        [
         "5",
         "0.1",
         "0.8",
         "0.1"
        ],
        [
         "6",
         "0.5",
         "0.0",
         "0.5"
        ],
        [
         "7",
         "0.1",
         "0.7",
         "0.2"
        ],
        [
         "8",
         "0.2",
         "0.5",
         "0.3"
        ],
        [
         "9",
         "0.3",
         "0.2",
         "0.5"
        ],
        [
         "10",
         "0.1",
         "0.1",
         "0.8"
        ],
        [
         "11",
         "0.0",
         "0.4",
         "0.6"
        ],
        [
         "12",
         "0.5",
         "0.4",
         "0.1"
        ],
        [
         "13",
         "0.0",
         "0.3",
         "0.7"
        ],
        [
         "14",
         "0.3",
         "0.0",
         "0.7"
        ],
        [
         "15",
         "0.1",
         "0.4",
         "0.5"
        ],
        [
         "16",
         "0.2",
         "0.5",
         "0.3"
        ],
        [
         "17",
         "0.2",
         "0.1",
         "0.7"
        ],
        [
         "18",
         "0.2",
         "0.0",
         "0.8"
        ],
        [
         "19",
         "0.6",
         "0.2",
         "0.2"
        ],
        [
         "20",
         "0.2",
         "0.0",
         "0.8"
        ],
        [
         "21",
         "0.8",
         "0.1",
         "0.1"
        ],
        [
         "22",
         "0.1",
         "0.1",
         "0.8"
        ],
        [
         "23",
         "0.0",
         "0.1",
         "0.9"
        ],
        [
         "24",
         "0.2",
         "0.3",
         "0.5"
        ],
        [
         "25",
         "0.7",
         "0.0",
         "0.3"
        ],
        [
         "26",
         "0.7",
         "0.3",
         "0.0"
        ],
        [
         "27",
         "0.4",
         "0.0",
         "0.6"
        ],
        [
         "28",
         "0.4",
         "0.1",
         "0.5"
        ],
        [
         "29",
         "0.0",
         "0.1",
         "0.9"
        ],
        [
         "30",
         "0.3",
         "0.3",
         "0.4"
        ],
        [
         "31",
         "0.1",
         "0.0",
         "0.9"
        ],
        [
         "32",
         "0.4",
         "0.2",
         "0.4"
        ],
        [
         "33",
         "0.0",
         "0.2",
         "0.8"
        ],
        [
         "34",
         "0.4",
         "0.3",
         "0.3"
        ],
        [
         "35",
         "0.1",
         "0.1",
         "0.8"
        ],
        [
         "36",
         "0.7",
         "0.1",
         "0.2"
        ],
        [
         "37",
         "0.1",
         "0.6",
         "0.3"
        ],
        [
         "38",
         "0.3",
         "0.1",
         "0.6"
        ],
        [
         "39",
         "0.2",
         "0.4",
         "0.4"
        ],
        [
         "40",
         "0.2",
         "0.2",
         "0.6"
        ],
        [
         "41",
         "0.4",
         "0.6",
         "0.0"
        ],
        [
         "42",
         "0.4",
         "0.3",
         "0.3"
        ],
        [
         "43",
         "0.3",
         "0.3",
         "0.4"
        ],
        [
         "44",
         "0.1",
         "0.2",
         "0.7"
        ],
        [
         "45",
         "0.3",
         "0.5",
         "0.2"
        ],
        [
         "46",
         "0.7",
         "0.1",
         "0.2"
        ],
        [
         "47",
         "0.4",
         "0.2",
         "0.4"
        ],
        [
         "48",
         "0.3",
         "0.7",
         "0.0"
        ],
        [
         "49",
         "0.8",
         "0.1",
         "0.1"
        ]
       ],
       "shape": {
        "columns": 3,
        "rows": 400
       }
      },
      "text/html": [
       "<div>\n",
       "<style scoped>\n",
       "    .dataframe tbody tr th:only-of-type {\n",
       "        vertical-align: middle;\n",
       "    }\n",
       "\n",
       "    .dataframe tbody tr th {\n",
       "        vertical-align: top;\n",
       "    }\n",
       "\n",
       "    .dataframe thead th {\n",
       "        text-align: right;\n",
       "    }\n",
       "</style>\n",
       "<table border=\"1\" class=\"dataframe\">\n",
       "  <thead>\n",
       "    <tr style=\"text-align: right;\">\n",
       "      <th></th>\n",
       "      <th>prob_win</th>\n",
       "      <th>prob_loss</th>\n",
       "      <th>prob_ambi</th>\n",
       "    </tr>\n",
       "  </thead>\n",
       "  <tbody>\n",
       "    <tr>\n",
       "      <th>0</th>\n",
       "      <td>0.5</td>\n",
       "      <td>0.0</td>\n",
       "      <td>0.5</td>\n",
       "    </tr>\n",
       "    <tr>\n",
       "      <th>1</th>\n",
       "      <td>0.1</td>\n",
       "      <td>0.2</td>\n",
       "      <td>0.7</td>\n",
       "    </tr>\n",
       "    <tr>\n",
       "      <th>2</th>\n",
       "      <td>0.4</td>\n",
       "      <td>0.5</td>\n",
       "      <td>0.1</td>\n",
       "    </tr>\n",
       "    <tr>\n",
       "      <th>3</th>\n",
       "      <td>0.1</td>\n",
       "      <td>0.3</td>\n",
       "      <td>0.6</td>\n",
       "    </tr>\n",
       "    <tr>\n",
       "      <th>4</th>\n",
       "      <td>0.5</td>\n",
       "      <td>0.5</td>\n",
       "      <td>0.0</td>\n",
       "    </tr>\n",
       "    <tr>\n",
       "      <th>...</th>\n",
       "      <td>...</td>\n",
       "      <td>...</td>\n",
       "      <td>...</td>\n",
       "    </tr>\n",
       "    <tr>\n",
       "      <th>395</th>\n",
       "      <td>0.3</td>\n",
       "      <td>0.5</td>\n",
       "      <td>0.2</td>\n",
       "    </tr>\n",
       "    <tr>\n",
       "      <th>396</th>\n",
       "      <td>0.7</td>\n",
       "      <td>0.1</td>\n",
       "      <td>0.2</td>\n",
       "    </tr>\n",
       "    <tr>\n",
       "      <th>397</th>\n",
       "      <td>0.4</td>\n",
       "      <td>0.2</td>\n",
       "      <td>0.4</td>\n",
       "    </tr>\n",
       "    <tr>\n",
       "      <th>398</th>\n",
       "      <td>0.3</td>\n",
       "      <td>0.7</td>\n",
       "      <td>0.0</td>\n",
       "    </tr>\n",
       "    <tr>\n",
       "      <th>399</th>\n",
       "      <td>0.8</td>\n",
       "      <td>0.1</td>\n",
       "      <td>0.1</td>\n",
       "    </tr>\n",
       "  </tbody>\n",
       "</table>\n",
       "<p>400 rows × 3 columns</p>\n",
       "</div>"
      ],
      "text/plain": [
       "     prob_win  prob_loss  prob_ambi\n",
       "0         0.5        0.0        0.5\n",
       "1         0.1        0.2        0.7\n",
       "2         0.4        0.5        0.1\n",
       "3         0.1        0.3        0.6\n",
       "4         0.5        0.5        0.0\n",
       "..        ...        ...        ...\n",
       "395       0.3        0.5        0.2\n",
       "396       0.7        0.1        0.2\n",
       "397       0.4        0.2        0.4\n",
       "398       0.3        0.7        0.0\n",
       "399       0.8        0.1        0.1\n",
       "\n",
       "[400 rows x 3 columns]"
      ]
     },
     "execution_count": 13,
     "metadata": {},
     "output_type": "execute_result"
    }
   ],
   "source": [
    "df_gallup[['prob_win','prob_loss','prob_ambi']]\n"
   ]
  },
  {
   "cell_type": "code",
   "execution_count": 16,
   "id": "bc72c8fa",
   "metadata": {},
   "outputs": [
    {
     "name": "stdout",
     "output_type": "stream",
     "text": [
      "Processing subject 1/8...f9a528a4-cd95-47cd-af5d-fd7488fa2f5f\n",
      "36\n"
     ]
    },
    {
     "name": "stderr",
     "output_type": "stream",
     "text": [
      "/var/folders/73/99zh84sx6gx2kqgq02_rm3zh0000gp/T/ipykernel_48209/1538336277.py:163: RuntimeWarning: divide by zero encountered in log\n",
      "  + np.log(lognormal_values['tau'])\n"
     ]
    },
    {
     "name": "stdout",
     "output_type": "stream",
     "text": [
      "Optimization terminated successfully.\n",
      "         Current function value: 26.719630\n",
      "         Iterations: 802\n",
      "         Function evaluations: 1333\n"
     ]
    },
    {
     "name": "stderr",
     "output_type": "stream",
     "text": [
      "/var/folders/73/99zh84sx6gx2kqgq02_rm3zh0000gp/T/ipykernel_48209/1538336277.py:163: RuntimeWarning: divide by zero encountered in log\n",
      "  + np.log(lognormal_values['tau'])\n"
     ]
    },
    {
     "name": "stdout",
     "output_type": "stream",
     "text": [
      "Optimization terminated successfully.\n",
      "         Current function value: 22.321148\n",
      "         Iterations: 752\n",
      "         Function evaluations: 1263\n",
      "Processing subject 2/8...8374ce52-07eb-4861-a570-7d92355dbb9a\n",
      "36\n",
      "Optimization terminated successfully.\n",
      "         Current function value: 23.696068\n",
      "         Iterations: 1455\n",
      "         Function evaluations: 2324\n",
      "Optimization terminated successfully.\n",
      "         Current function value: 25.795012\n",
      "         Iterations: 935\n",
      "         Function evaluations: 1553\n",
      "Processing subject 3/8...13785ad5-8555-462f-9207-e9038cd838a2\n",
      "30\n"
     ]
    },
    {
     "name": "stderr",
     "output_type": "stream",
     "text": [
      "/var/folders/73/99zh84sx6gx2kqgq02_rm3zh0000gp/T/ipykernel_48209/1538336277.py:163: RuntimeWarning: divide by zero encountered in log\n",
      "  + np.log(lognormal_values['tau'])\n",
      "/var/folders/73/99zh84sx6gx2kqgq02_rm3zh0000gp/T/ipykernel_48209/1538336277.py:163: RuntimeWarning: divide by zero encountered in log\n",
      "  + np.log(lognormal_values['tau'])\n",
      "/var/folders/73/99zh84sx6gx2kqgq02_rm3zh0000gp/T/ipykernel_48209/1538336277.py:163: RuntimeWarning: divide by zero encountered in log\n",
      "  + np.log(lognormal_values['tau'])\n",
      "/var/folders/73/99zh84sx6gx2kqgq02_rm3zh0000gp/T/ipykernel_48209/1538336277.py:163: RuntimeWarning: divide by zero encountered in log\n",
      "  + np.log(lognormal_values['tau'])\n"
     ]
    },
    {
     "name": "stdout",
     "output_type": "stream",
     "text": [
      "Optimization terminated successfully.\n",
      "         Current function value: 30.340210\n",
      "         Iterations: 2494\n",
      "         Function evaluations: 3983\n"
     ]
    },
    {
     "name": "stderr",
     "output_type": "stream",
     "text": [
      "/var/folders/73/99zh84sx6gx2kqgq02_rm3zh0000gp/T/ipykernel_48209/1538336277.py:163: RuntimeWarning: divide by zero encountered in log\n",
      "  + np.log(lognormal_values['tau'])\n",
      "/var/folders/73/99zh84sx6gx2kqgq02_rm3zh0000gp/T/ipykernel_48209/1538336277.py:163: RuntimeWarning: divide by zero encountered in log\n",
      "  + np.log(lognormal_values['tau'])\n",
      "/var/folders/73/99zh84sx6gx2kqgq02_rm3zh0000gp/T/ipykernel_48209/1538336277.py:163: RuntimeWarning: divide by zero encountered in log\n",
      "  + np.log(lognormal_values['tau'])\n"
     ]
    },
    {
     "name": "stdout",
     "output_type": "stream",
     "text": [
      "Optimization terminated successfully.\n",
      "         Current function value: 27.498246\n",
      "         Iterations: 1100\n",
      "         Function evaluations: 1784\n",
      "Processing subject 4/8...781f10e6-4241-46bb-a233-43d993723633\n",
      "13\n"
     ]
    },
    {
     "name": "stderr",
     "output_type": "stream",
     "text": [
      "/var/folders/73/99zh84sx6gx2kqgq02_rm3zh0000gp/T/ipykernel_48209/1538336277.py:163: RuntimeWarning: divide by zero encountered in log\n",
      "  + np.log(lognormal_values['tau'])\n",
      "/var/folders/73/99zh84sx6gx2kqgq02_rm3zh0000gp/T/ipykernel_48209/1538336277.py:163: RuntimeWarning: divide by zero encountered in log\n",
      "  + np.log(lognormal_values['tau'])\n",
      "/var/folders/73/99zh84sx6gx2kqgq02_rm3zh0000gp/T/ipykernel_48209/1538336277.py:163: RuntimeWarning: divide by zero encountered in log\n",
      "  + np.log(lognormal_values['tau'])\n",
      "/var/folders/73/99zh84sx6gx2kqgq02_rm3zh0000gp/T/ipykernel_48209/1538336277.py:163: RuntimeWarning: divide by zero encountered in log\n",
      "  + np.log(lognormal_values['tau'])\n",
      "/var/folders/73/99zh84sx6gx2kqgq02_rm3zh0000gp/T/ipykernel_48209/1538336277.py:163: RuntimeWarning: divide by zero encountered in log\n",
      "  + np.log(lognormal_values['tau'])\n",
      "/var/folders/73/99zh84sx6gx2kqgq02_rm3zh0000gp/T/ipykernel_48209/1538336277.py:163: RuntimeWarning: divide by zero encountered in log\n",
      "  + np.log(lognormal_values['tau'])\n",
      "/var/folders/73/99zh84sx6gx2kqgq02_rm3zh0000gp/T/ipykernel_48209/1538336277.py:163: RuntimeWarning: divide by zero encountered in log\n",
      "  + np.log(lognormal_values['tau'])\n",
      "/var/folders/73/99zh84sx6gx2kqgq02_rm3zh0000gp/T/ipykernel_48209/1538336277.py:114: RuntimeWarning: overflow encountered in exp\n",
      "  return (1)/(1+np.exp(-tau*(utility-error)*yy))\n",
      "/Users/administrator/miniforge3/envs/mgme_task/lib/python3.10/site-packages/pandas/core/arraylike.py:399: RuntimeWarning: divide by zero encountered in log\n",
      "  result = getattr(ufunc, method)(*inputs, **kwargs)\n",
      "/var/folders/73/99zh84sx6gx2kqgq02_rm3zh0000gp/T/ipykernel_48209/1538336277.py:165: RuntimeWarning: divide by zero encountered in log\n",
      "  + np.log(lognormal_values['gamma'])\n"
     ]
    },
    {
     "name": "stdout",
     "output_type": "stream",
     "text": [
      "Optimization terminated successfully.\n",
      "         Current function value: 33.299956\n",
      "         Iterations: 1480\n",
      "         Function evaluations: 2336\n"
     ]
    },
    {
     "name": "stderr",
     "output_type": "stream",
     "text": [
      "/var/folders/73/99zh84sx6gx2kqgq02_rm3zh0000gp/T/ipykernel_48209/1538336277.py:163: RuntimeWarning: divide by zero encountered in log\n",
      "  + np.log(lognormal_values['tau'])\n",
      "/var/folders/73/99zh84sx6gx2kqgq02_rm3zh0000gp/T/ipykernel_48209/1538336277.py:163: RuntimeWarning: divide by zero encountered in log\n",
      "  + np.log(lognormal_values['tau'])\n",
      "/var/folders/73/99zh84sx6gx2kqgq02_rm3zh0000gp/T/ipykernel_48209/1538336277.py:163: RuntimeWarning: divide by zero encountered in log\n",
      "  + np.log(lognormal_values['tau'])\n",
      "/var/folders/73/99zh84sx6gx2kqgq02_rm3zh0000gp/T/ipykernel_48209/1538336277.py:163: RuntimeWarning: divide by zero encountered in log\n",
      "  + np.log(lognormal_values['tau'])\n",
      "/var/folders/73/99zh84sx6gx2kqgq02_rm3zh0000gp/T/ipykernel_48209/1538336277.py:163: RuntimeWarning: divide by zero encountered in log\n",
      "  + np.log(lognormal_values['tau'])\n",
      "/var/folders/73/99zh84sx6gx2kqgq02_rm3zh0000gp/T/ipykernel_48209/1538336277.py:163: RuntimeWarning: divide by zero encountered in log\n",
      "  + np.log(lognormal_values['tau'])\n",
      "/var/folders/73/99zh84sx6gx2kqgq02_rm3zh0000gp/T/ipykernel_48209/1538336277.py:163: RuntimeWarning: divide by zero encountered in log\n",
      "  + np.log(lognormal_values['tau'])\n",
      "/var/folders/73/99zh84sx6gx2kqgq02_rm3zh0000gp/T/ipykernel_48209/1538336277.py:163: RuntimeWarning: divide by zero encountered in log\n",
      "  + np.log(lognormal_values['tau'])\n"
     ]
    },
    {
     "name": "stdout",
     "output_type": "stream",
     "text": [
      "Optimization terminated successfully.\n",
      "         Current function value: 43.846120\n",
      "         Iterations: 954\n",
      "         Function evaluations: 1520\n",
      "Processing subject 5/8...bf5cdead-3fa0-468a-86a6-f29b1c4d0665\n",
      "38\n",
      "Optimization terminated successfully.\n",
      "         Current function value: 26.831071\n",
      "         Iterations: 1154\n",
      "         Function evaluations: 1844\n"
     ]
    },
    {
     "name": "stderr",
     "output_type": "stream",
     "text": [
      "/var/folders/73/99zh84sx6gx2kqgq02_rm3zh0000gp/T/ipykernel_48209/1538336277.py:163: RuntimeWarning: divide by zero encountered in log\n",
      "  + np.log(lognormal_values['tau'])\n"
     ]
    },
    {
     "name": "stdout",
     "output_type": "stream",
     "text": [
      "Optimization terminated successfully.\n",
      "         Current function value: 21.368160\n",
      "         Iterations: 1361\n",
      "         Function evaluations: 2119\n",
      "Processing subject 6/8...2fbb0673-a652-4c22-9d56-67076478a32e\n",
      "31\n"
     ]
    },
    {
     "name": "stderr",
     "output_type": "stream",
     "text": [
      "/var/folders/73/99zh84sx6gx2kqgq02_rm3zh0000gp/T/ipykernel_48209/1538336277.py:163: RuntimeWarning: divide by zero encountered in log\n",
      "  + np.log(lognormal_values['tau'])\n",
      "/var/folders/73/99zh84sx6gx2kqgq02_rm3zh0000gp/T/ipykernel_48209/1538336277.py:163: RuntimeWarning: divide by zero encountered in log\n",
      "  + np.log(lognormal_values['tau'])\n"
     ]
    },
    {
     "name": "stdout",
     "output_type": "stream",
     "text": [
      "Optimization terminated successfully.\n",
      "         Current function value: 30.546661\n",
      "         Iterations: 1197\n",
      "         Function evaluations: 1962\n"
     ]
    },
    {
     "name": "stderr",
     "output_type": "stream",
     "text": [
      "/var/folders/73/99zh84sx6gx2kqgq02_rm3zh0000gp/T/ipykernel_48209/1538336277.py:163: RuntimeWarning: divide by zero encountered in log\n",
      "  + np.log(lognormal_values['tau'])\n"
     ]
    },
    {
     "name": "stdout",
     "output_type": "stream",
     "text": [
      "Optimization terminated successfully.\n",
      "         Current function value: 38.935567\n",
      "         Iterations: 1522\n",
      "         Function evaluations: 2503\n",
      "Processing subject 7/8...07bbb566-d0e4-4582-ab6a-28d93e7ab47f\n",
      "24\n"
     ]
    },
    {
     "name": "stderr",
     "output_type": "stream",
     "text": [
      "/var/folders/73/99zh84sx6gx2kqgq02_rm3zh0000gp/T/ipykernel_48209/1538336277.py:163: RuntimeWarning: divide by zero encountered in log\n",
      "  + np.log(lognormal_values['tau'])\n",
      "/var/folders/73/99zh84sx6gx2kqgq02_rm3zh0000gp/T/ipykernel_48209/1538336277.py:163: RuntimeWarning: divide by zero encountered in log\n",
      "  + np.log(lognormal_values['tau'])\n",
      "/var/folders/73/99zh84sx6gx2kqgq02_rm3zh0000gp/T/ipykernel_48209/1538336277.py:163: RuntimeWarning: divide by zero encountered in log\n",
      "  + np.log(lognormal_values['tau'])\n",
      "/var/folders/73/99zh84sx6gx2kqgq02_rm3zh0000gp/T/ipykernel_48209/1538336277.py:163: RuntimeWarning: divide by zero encountered in log\n",
      "  + np.log(lognormal_values['tau'])\n",
      "/var/folders/73/99zh84sx6gx2kqgq02_rm3zh0000gp/T/ipykernel_48209/1538336277.py:163: RuntimeWarning: divide by zero encountered in log\n",
      "  + np.log(lognormal_values['tau'])\n",
      "/var/folders/73/99zh84sx6gx2kqgq02_rm3zh0000gp/T/ipykernel_48209/1538336277.py:163: RuntimeWarning: divide by zero encountered in log\n",
      "  + np.log(lognormal_values['tau'])\n"
     ]
    },
    {
     "name": "stdout",
     "output_type": "stream",
     "text": [
      "Optimization terminated successfully.\n",
      "         Current function value: 31.538271\n",
      "         Iterations: 912\n",
      "         Function evaluations: 1518\n"
     ]
    },
    {
     "name": "stderr",
     "output_type": "stream",
     "text": [
      "/var/folders/73/99zh84sx6gx2kqgq02_rm3zh0000gp/T/ipykernel_48209/1538336277.py:163: RuntimeWarning: divide by zero encountered in log\n",
      "  + np.log(lognormal_values['tau'])\n"
     ]
    },
    {
     "name": "stdout",
     "output_type": "stream",
     "text": [
      "Optimization terminated successfully.\n",
      "         Current function value: 30.583160\n",
      "         Iterations: 1622\n",
      "         Function evaluations: 2605\n",
      "Processing subject 8/8...2f1c79ff-1730-45f9-a0c7-04d071d4d3b1\n",
      "34\n"
     ]
    },
    {
     "name": "stderr",
     "output_type": "stream",
     "text": [
      "/var/folders/73/99zh84sx6gx2kqgq02_rm3zh0000gp/T/ipykernel_48209/1538336277.py:163: RuntimeWarning: divide by zero encountered in log\n",
      "  + np.log(lognormal_values['tau'])\n",
      "/var/folders/73/99zh84sx6gx2kqgq02_rm3zh0000gp/T/ipykernel_48209/1538336277.py:163: RuntimeWarning: divide by zero encountered in log\n",
      "  + np.log(lognormal_values['tau'])\n",
      "/var/folders/73/99zh84sx6gx2kqgq02_rm3zh0000gp/T/ipykernel_48209/1538336277.py:163: RuntimeWarning: divide by zero encountered in log\n",
      "  + np.log(lognormal_values['tau'])\n"
     ]
    },
    {
     "name": "stdout",
     "output_type": "stream",
     "text": [
      "Optimization terminated successfully.\n",
      "         Current function value: 25.233964\n",
      "         Iterations: 1172\n",
      "         Function evaluations: 1867\n"
     ]
    },
    {
     "name": "stderr",
     "output_type": "stream",
     "text": [
      "/var/folders/73/99zh84sx6gx2kqgq02_rm3zh0000gp/T/ipykernel_48209/1538336277.py:163: RuntimeWarning: divide by zero encountered in log\n",
      "  + np.log(lognormal_values['tau'])\n",
      "/var/folders/73/99zh84sx6gx2kqgq02_rm3zh0000gp/T/ipykernel_48209/1538336277.py:163: RuntimeWarning: divide by zero encountered in log\n",
      "  + np.log(lognormal_values['tau'])\n"
     ]
    },
    {
     "name": "stdout",
     "output_type": "stream",
     "text": [
      "Optimization terminated successfully.\n",
      "         Current function value: 24.089637\n",
      "         Iterations: 1604\n",
      "         Function evaluations: 2509\n"
     ]
    }
   ],
   "source": [
    "from IPython.display import clear_output\n",
    "\n",
    "if 'auc_results' in locals():\n",
    "    del auc_results\n",
    "    \n",
    "# Prepare a DataFrame to store AUC scores and fitting times for each subject\n",
    "subjects = df_gallup.subject.unique()\n",
    "auc_results = pd.DataFrame(\n",
    "    index=subjects,\n",
    "    columns=[\n",
    "        'roc_auc_stan', \n",
    "        # 'roc_auc_pymc', \n",
    "        'roc_auc_MLS',\n",
    "        'stan_time', \n",
    "        # 'pymc_time', \n",
    "        'MLS_time'\n",
    "    ]\n",
    ")\n",
    "params_stan = pd.DataFrame()\n",
    "params_MLS = pd.DataFrame()\n",
    "\n",
    "\n",
    "subj_counter = 1\n",
    "for subject in subjects:\n",
    "    \n",
    "    # clear_output(wait=True)\n",
    "    print(f\"Processing subject {subj_counter}/{len(subjects)}...{subject}\")\n",
    "    df_subj             = df_gallup[df_gallup['subject'] == subject].copy()\n",
    "    df_subj['invest']   = df_subj['invest'].astype(int)\n",
    "    print(df_subj['invest'].sum())\n",
    "    df_subj2            = df_gallup2[df_gallup2['subject'] == subject].copy()\n",
    "    df_subj2['invest']  = df_subj2['invest'].astype(int)\n",
    "    \n",
    "    # correct dataset\n",
    "    start_time_stan = time.time()\n",
    "    stan_fit_subj   = MLS_wrapper(df_subj, INIT_VALUES, distro_estimates)\n",
    "    stan_time_subj  = time.time() - start_time_stan\n",
    "    stan_pred       = minimize_predict(stan_fit_subj, df_subj, FACTOR=FACTOR, beta=beta)\n",
    "    theta, Lambda, tau, alpha, gamma, error = stan_fit_subj.x\n",
    "    stan_params_subj = {\n",
    "        'subject': subject,\n",
    "        'theta':   theta,\n",
    "        'Lambda':  Lambda,\n",
    "        'alpha':   alpha,\n",
    "        'tau':     tau,\n",
    "        'beta':    0.88,  # already defined as 0.88\n",
    "        'gamma':   gamma,\n",
    "        'error':   error\n",
    "    }\n",
    "    # print(stan_params_subj)\n",
    "    params_stan = pd.concat([params_stan, pd.DataFrame(stan_params_subj, index=[0])], axis=0)\n",
    "    # print(params_stan)\n",
    "    \n",
    "    # print(df_subj[['subject', 'invest','task_onset_at']])\n",
    "    \n",
    "    if 'stan_params_subj' in locals():\n",
    "        del stan_params_subj\n",
    "\n",
    "    # incorrect dataset\n",
    "    start_time_MLS = time.time()\n",
    "    estimates_subj = MLS_wrapper(df_subj2, INIT_VALUES, distro_estimates)\n",
    "    MLS_time_subj  = time.time() - start_time_MLS\n",
    "    MLS_pred       = minimize_predict(estimates_subj, df_subj, FACTOR=FACTOR, beta=beta)\n",
    "    theta, Lambda, tau, alpha, gamma, error = estimates_subj.x\n",
    "    MLS_params_subj = {\n",
    "        'subject': subject,\n",
    "        'theta': theta,\n",
    "        'Lambda': Lambda,\n",
    "        'alpha': alpha,\n",
    "        'tau': tau,\n",
    "        'beta': 0.88,  # already defined as 0.88\n",
    "        'gamma': gamma,\n",
    "        'error': error\n",
    "    }\n",
    "    params_MLS = pd.concat([params_MLS, pd.DataFrame(MLS_params_subj, index=[0])], axis=0)                 \n",
    "    \n",
    "    if 'MLS_params_subj' in locals():\n",
    "        del MLS_params_subj      \n",
    "            \n",
    "    y_true_subj = df_subj['invest'].values\n",
    "\n",
    "    auc_results.loc[subject, 'roc_auc_stan'] = roc_auc_score(y_true_subj, stan_pred)\n",
    "    # # auc_results.loc[subject, 'roc_auc_pymc'] = roc_auc_score(y_true_subj, pymc_pred)\n",
    "    auc_results.loc[subject, 'roc_auc_MLS'] = roc_auc_score(y_true_subj, MLS_pred)\n",
    "    # auc_results.loc[subject, 'stan_time'] = stan_time_subj\n",
    "    # # auc_results.loc[subject, 'pymc_time'] = pymc_time_subj\n",
    "    # auc_results.loc[subject, 'MLS_time'] = MLS_time_subj\n",
    "    \n",
    "    subj_counter += 1\n",
    "    \n",
    "# auc_results.to_csv('auc_results_by_subject.csv')\n",
    "# auc_results\n"
   ]
  },
  {
   "cell_type": "code",
   "execution_count": null,
   "id": "6effb759",
   "metadata": {},
   "outputs": [
    {
     "data": {
      "application/vnd.microsoft.datawrangler.viewer.v0+json": {
       "columns": [
        {
         "name": "index",
         "rawType": "int64",
         "type": "integer"
        },
        {
         "name": "subject",
         "rawType": "object",
         "type": "string"
        },
        {
         "name": "theta",
         "rawType": "float64",
         "type": "float"
        },
        {
         "name": "Lambda",
         "rawType": "float64",
         "type": "float"
        },
        {
         "name": "alpha",
         "rawType": "float64",
         "type": "float"
        },
        {
         "name": "tau",
         "rawType": "float64",
         "type": "float"
        },
        {
         "name": "beta",
         "rawType": "float64",
         "type": "float"
        },
        {
         "name": "gamma",
         "rawType": "float64",
         "type": "float"
        },
        {
         "name": "error",
         "rawType": "float64",
         "type": "float"
        }
       ],
       "ref": "82b99606-ab53-492a-a088-bdc9049dc7de",
       "rows": [
        [
         "0",
         "f9a528a4-cd95-47cd-af5d-fd7488fa2f5f",
         "0.23249999999999327",
         "1.8029610023401856",
         "0.9309795652441565",
         "0.06590011743750951",
         "0.88",
         "1.6648384133290048",
         "-0.0004716360915874903"
        ],
        [
         "0",
         "8374ce52-07eb-4861-a570-7d92355dbb9a",
         "0.3094444444444463",
         "1.7920213217001029",
         "0.9607549706096317",
         "0.11938245087462734",
         "0.88",
         "0.24999774199442082",
         "0.01990989350462298"
        ],
        [
         "0",
         "13785ad5-8555-462f-9207-e9038cd838a2",
         "0.4675000000000001",
         "1.7956746031501178",
         "0.9625759136588398",
         "0.11205534846312211",
         "0.88",
         "4.343397219924396",
         "-0.025314714330850013"
        ],
        [
         "0",
         "781f10e6-4241-46bb-a233-43d993723633",
         "0.30250000000007693",
         "1.7895585657315802",
         "0.9609387996167658",
         "0.12305108452897986",
         "0.88",
         "0.11291051617980588",
         "0.005657822338839437"
        ],
        [
         "0",
         "bf5cdead-3fa0-468a-86a6-f29b1c4d0665",
         "0.291875",
         "1.7727399660753398",
         "0.919095643770226",
         "0.058311775603189314",
         "0.88",
         "0.8595622875370086",
         "0.009560866684607743"
        ],
        [
         "0",
         "2fbb0673-a652-4c22-9d56-67076478a32e",
         "0.30300000000000454",
         "1.7927071161750257",
         "0.9598053088265274",
         "0.12195421780699445",
         "0.88",
         "0.18343346234048752",
         "-0.005862152769349996"
        ],
        [
         "0",
         "07bbb566-d0e4-4582-ab6a-28d93e7ab47f",
         "0.30833333333333535",
         "1.7934726262803538",
         "0.9615508069462639",
         "0.12181774736007765",
         "0.88",
         "0.16697194001872434",
         "0.006941289944730442"
        ],
        [
         "0",
         "2f1c79ff-1730-45f9-a0c7-04d071d4d3b1",
         "0.3130000000002694",
         "1.794070336087621",
         "0.9624956223814548",
         "0.11999073757114495",
         "0.88",
         "0.2367991787883405",
         "-0.009114838259576914"
        ]
       ],
       "shape": {
        "columns": 8,
        "rows": 8
       }
      },
      "text/html": [
       "<div>\n",
       "<style scoped>\n",
       "    .dataframe tbody tr th:only-of-type {\n",
       "        vertical-align: middle;\n",
       "    }\n",
       "\n",
       "    .dataframe tbody tr th {\n",
       "        vertical-align: top;\n",
       "    }\n",
       "\n",
       "    .dataframe thead th {\n",
       "        text-align: right;\n",
       "    }\n",
       "</style>\n",
       "<table border=\"1\" class=\"dataframe\">\n",
       "  <thead>\n",
       "    <tr style=\"text-align: right;\">\n",
       "      <th></th>\n",
       "      <th>subject</th>\n",
       "      <th>theta</th>\n",
       "      <th>Lambda</th>\n",
       "      <th>alpha</th>\n",
       "      <th>tau</th>\n",
       "      <th>beta</th>\n",
       "      <th>gamma</th>\n",
       "      <th>error</th>\n",
       "    </tr>\n",
       "  </thead>\n",
       "  <tbody>\n",
       "    <tr>\n",
       "      <th>0</th>\n",
       "      <td>f9a528a4-cd95-47cd-af5d-fd7488fa2f5f</td>\n",
       "      <td>0.232500</td>\n",
       "      <td>1.802961</td>\n",
       "      <td>0.930980</td>\n",
       "      <td>0.065900</td>\n",
       "      <td>0.88</td>\n",
       "      <td>1.664838</td>\n",
       "      <td>-0.000472</td>\n",
       "    </tr>\n",
       "    <tr>\n",
       "      <th>0</th>\n",
       "      <td>8374ce52-07eb-4861-a570-7d92355dbb9a</td>\n",
       "      <td>0.309444</td>\n",
       "      <td>1.792021</td>\n",
       "      <td>0.960755</td>\n",
       "      <td>0.119382</td>\n",
       "      <td>0.88</td>\n",
       "      <td>0.249998</td>\n",
       "      <td>0.019910</td>\n",
       "    </tr>\n",
       "    <tr>\n",
       "      <th>0</th>\n",
       "      <td>13785ad5-8555-462f-9207-e9038cd838a2</td>\n",
       "      <td>0.467500</td>\n",
       "      <td>1.795675</td>\n",
       "      <td>0.962576</td>\n",
       "      <td>0.112055</td>\n",
       "      <td>0.88</td>\n",
       "      <td>4.343397</td>\n",
       "      <td>-0.025315</td>\n",
       "    </tr>\n",
       "    <tr>\n",
       "      <th>0</th>\n",
       "      <td>781f10e6-4241-46bb-a233-43d993723633</td>\n",
       "      <td>0.302500</td>\n",
       "      <td>1.789559</td>\n",
       "      <td>0.960939</td>\n",
       "      <td>0.123051</td>\n",
       "      <td>0.88</td>\n",
       "      <td>0.112911</td>\n",
       "      <td>0.005658</td>\n",
       "    </tr>\n",
       "    <tr>\n",
       "      <th>0</th>\n",
       "      <td>bf5cdead-3fa0-468a-86a6-f29b1c4d0665</td>\n",
       "      <td>0.291875</td>\n",
       "      <td>1.772740</td>\n",
       "      <td>0.919096</td>\n",
       "      <td>0.058312</td>\n",
       "      <td>0.88</td>\n",
       "      <td>0.859562</td>\n",
       "      <td>0.009561</td>\n",
       "    </tr>\n",
       "    <tr>\n",
       "      <th>0</th>\n",
       "      <td>2fbb0673-a652-4c22-9d56-67076478a32e</td>\n",
       "      <td>0.303000</td>\n",
       "      <td>1.792707</td>\n",
       "      <td>0.959805</td>\n",
       "      <td>0.121954</td>\n",
       "      <td>0.88</td>\n",
       "      <td>0.183433</td>\n",
       "      <td>-0.005862</td>\n",
       "    </tr>\n",
       "    <tr>\n",
       "      <th>0</th>\n",
       "      <td>07bbb566-d0e4-4582-ab6a-28d93e7ab47f</td>\n",
       "      <td>0.308333</td>\n",
       "      <td>1.793473</td>\n",
       "      <td>0.961551</td>\n",
       "      <td>0.121818</td>\n",
       "      <td>0.88</td>\n",
       "      <td>0.166972</td>\n",
       "      <td>0.006941</td>\n",
       "    </tr>\n",
       "    <tr>\n",
       "      <th>0</th>\n",
       "      <td>2f1c79ff-1730-45f9-a0c7-04d071d4d3b1</td>\n",
       "      <td>0.313000</td>\n",
       "      <td>1.794070</td>\n",
       "      <td>0.962496</td>\n",
       "      <td>0.119991</td>\n",
       "      <td>0.88</td>\n",
       "      <td>0.236799</td>\n",
       "      <td>-0.009115</td>\n",
       "    </tr>\n",
       "  </tbody>\n",
       "</table>\n",
       "</div>"
      ],
      "text/plain": [
       "                                subject     theta    Lambda     alpha  \\\n",
       "0  f9a528a4-cd95-47cd-af5d-fd7488fa2f5f  0.232500  1.802961  0.930980   \n",
       "0  8374ce52-07eb-4861-a570-7d92355dbb9a  0.309444  1.792021  0.960755   \n",
       "0  13785ad5-8555-462f-9207-e9038cd838a2  0.467500  1.795675  0.962576   \n",
       "0  781f10e6-4241-46bb-a233-43d993723633  0.302500  1.789559  0.960939   \n",
       "0  bf5cdead-3fa0-468a-86a6-f29b1c4d0665  0.291875  1.772740  0.919096   \n",
       "0  2fbb0673-a652-4c22-9d56-67076478a32e  0.303000  1.792707  0.959805   \n",
       "0  07bbb566-d0e4-4582-ab6a-28d93e7ab47f  0.308333  1.793473  0.961551   \n",
       "0  2f1c79ff-1730-45f9-a0c7-04d071d4d3b1  0.313000  1.794070  0.962496   \n",
       "\n",
       "        tau  beta     gamma     error  \n",
       "0  0.065900  0.88  1.664838 -0.000472  \n",
       "0  0.119382  0.88  0.249998  0.019910  \n",
       "0  0.112055  0.88  4.343397 -0.025315  \n",
       "0  0.123051  0.88  0.112911  0.005658  \n",
       "0  0.058312  0.88  0.859562  0.009561  \n",
       "0  0.121954  0.88  0.183433 -0.005862  \n",
       "0  0.121818  0.88  0.166972  0.006941  \n",
       "0  0.119991  0.88  0.236799 -0.009115  "
      ]
     },
     "execution_count": 15,
     "metadata": {},
     "output_type": "execute_result"
    }
   ],
   "source": [
    "params_stan\n",
    "\n"
   ]
  },
  {
   "cell_type": "code",
   "execution_count": null,
   "id": "1c3a726c",
   "metadata": {},
   "outputs": [
    {
     "data": {
      "application/vnd.microsoft.datawrangler.viewer.v0+json": {
       "columns": [
        {
         "name": "index",
         "rawType": "int64",
         "type": "integer"
        },
        {
         "name": "subject",
         "rawType": "object",
         "type": "string"
        },
        {
         "name": "theta",
         "rawType": "float64",
         "type": "float"
        },
        {
         "name": "Lambda",
         "rawType": "float64",
         "type": "float"
        },
        {
         "name": "alpha",
         "rawType": "float64",
         "type": "float"
        },
        {
         "name": "tau",
         "rawType": "float64",
         "type": "float"
        },
        {
         "name": "beta",
         "rawType": "float64",
         "type": "float"
        },
        {
         "name": "gamma",
         "rawType": "float64",
         "type": "float"
        },
        {
         "name": "error",
         "rawType": "float64",
         "type": "float"
        }
       ],
       "ref": "22e6f0fb-9132-4417-8e1b-cbcc566c82ab",
       "rows": [
        [
         "0",
         "f9a528a4-cd95-47cd-af5d-fd7488fa2f5f",
         "0.3050000000000006",
         "1.7930787107034052",
         "0.962541769001255",
         "0.12272497553835555",
         "0.88",
         "0.23570944798994603",
         "-0.0022028799894784614"
        ],
        [
         "0",
         "8374ce52-07eb-4861-a570-7d92355dbb9a",
         "0.35700000000000165",
         "3.815126739218803",
         "0.9602182737832665",
         "0.14408690887012504",
         "0.88",
         "0.2178600437121273",
         "-0.002460674547628566"
        ],
        [
         "0",
         "13785ad5-8555-462f-9207-e9038cd838a2",
         "0.30700000000000327",
         "1.792702917390103",
         "0.9621845654701161",
         "0.12272758469940212",
         "0.88",
         "0.19492354971957568",
         "-0.02835842714221007"
        ],
        [
         "0",
         "781f10e6-4241-46bb-a233-43d993723633",
         "0.3025000000002093",
         "1.7920206807847436",
         "0.9135681025987454",
         "0.06088848257655116",
         "0.88",
         "0.13265302739637402",
         "0.005530151078150062"
        ],
        [
         "0",
         "bf5cdead-3fa0-468a-86a6-f29b1c4d0665",
         "0.2789999999995346",
         "1.7920595931702616",
         "0.961000014234956",
         "0.12174798298181329",
         "0.88",
         "0.2444187143565787",
         "0.011556733829567838"
        ],
        [
         "0",
         "2fbb0673-a652-4c22-9d56-67076478a32e",
         "0.396873786132681",
         "1.8019894021735454",
         "0.9314547223879188",
         "0.08017674871978225",
         "0.88",
         "8.049626467700257",
         "0.009786823704335831"
        ],
        [
         "0",
         "07bbb566-d0e4-4582-ab6a-28d93e7ab47f",
         "0.3016666666664358",
         "1.7941275183109804",
         "0.9612832519415009",
         "0.12239206203164746",
         "0.88",
         "0.15338585259559095",
         "-0.0010182597952269046"
        ],
        [
         "0",
         "2f1c79ff-1730-45f9-a0c7-04d071d4d3b1",
         "0.2969999999999972",
         "1.792664352124929",
         "0.9630864855311405",
         "0.12282771114037283",
         "0.88",
         "0.2227610579869889",
         "0.0008087303030481626"
        ]
       ],
       "shape": {
        "columns": 8,
        "rows": 8
       }
      },
      "text/html": [
       "<div>\n",
       "<style scoped>\n",
       "    .dataframe tbody tr th:only-of-type {\n",
       "        vertical-align: middle;\n",
       "    }\n",
       "\n",
       "    .dataframe tbody tr th {\n",
       "        vertical-align: top;\n",
       "    }\n",
       "\n",
       "    .dataframe thead th {\n",
       "        text-align: right;\n",
       "    }\n",
       "</style>\n",
       "<table border=\"1\" class=\"dataframe\">\n",
       "  <thead>\n",
       "    <tr style=\"text-align: right;\">\n",
       "      <th></th>\n",
       "      <th>subject</th>\n",
       "      <th>theta</th>\n",
       "      <th>Lambda</th>\n",
       "      <th>alpha</th>\n",
       "      <th>tau</th>\n",
       "      <th>beta</th>\n",
       "      <th>gamma</th>\n",
       "      <th>error</th>\n",
       "    </tr>\n",
       "  </thead>\n",
       "  <tbody>\n",
       "    <tr>\n",
       "      <th>0</th>\n",
       "      <td>f9a528a4-cd95-47cd-af5d-fd7488fa2f5f</td>\n",
       "      <td>0.305000</td>\n",
       "      <td>1.793079</td>\n",
       "      <td>0.962542</td>\n",
       "      <td>0.122725</td>\n",
       "      <td>0.88</td>\n",
       "      <td>0.235709</td>\n",
       "      <td>-0.002203</td>\n",
       "    </tr>\n",
       "    <tr>\n",
       "      <th>0</th>\n",
       "      <td>8374ce52-07eb-4861-a570-7d92355dbb9a</td>\n",
       "      <td>0.357000</td>\n",
       "      <td>3.815127</td>\n",
       "      <td>0.960218</td>\n",
       "      <td>0.144087</td>\n",
       "      <td>0.88</td>\n",
       "      <td>0.217860</td>\n",
       "      <td>-0.002461</td>\n",
       "    </tr>\n",
       "    <tr>\n",
       "      <th>0</th>\n",
       "      <td>13785ad5-8555-462f-9207-e9038cd838a2</td>\n",
       "      <td>0.307000</td>\n",
       "      <td>1.792703</td>\n",
       "      <td>0.962185</td>\n",
       "      <td>0.122728</td>\n",
       "      <td>0.88</td>\n",
       "      <td>0.194924</td>\n",
       "      <td>-0.028358</td>\n",
       "    </tr>\n",
       "    <tr>\n",
       "      <th>0</th>\n",
       "      <td>781f10e6-4241-46bb-a233-43d993723633</td>\n",
       "      <td>0.302500</td>\n",
       "      <td>1.792021</td>\n",
       "      <td>0.913568</td>\n",
       "      <td>0.060888</td>\n",
       "      <td>0.88</td>\n",
       "      <td>0.132653</td>\n",
       "      <td>0.005530</td>\n",
       "    </tr>\n",
       "    <tr>\n",
       "      <th>0</th>\n",
       "      <td>bf5cdead-3fa0-468a-86a6-f29b1c4d0665</td>\n",
       "      <td>0.279000</td>\n",
       "      <td>1.792060</td>\n",
       "      <td>0.961000</td>\n",
       "      <td>0.121748</td>\n",
       "      <td>0.88</td>\n",
       "      <td>0.244419</td>\n",
       "      <td>0.011557</td>\n",
       "    </tr>\n",
       "    <tr>\n",
       "      <th>0</th>\n",
       "      <td>2fbb0673-a652-4c22-9d56-67076478a32e</td>\n",
       "      <td>0.396874</td>\n",
       "      <td>1.801989</td>\n",
       "      <td>0.931455</td>\n",
       "      <td>0.080177</td>\n",
       "      <td>0.88</td>\n",
       "      <td>8.049626</td>\n",
       "      <td>0.009787</td>\n",
       "    </tr>\n",
       "    <tr>\n",
       "      <th>0</th>\n",
       "      <td>07bbb566-d0e4-4582-ab6a-28d93e7ab47f</td>\n",
       "      <td>0.301667</td>\n",
       "      <td>1.794128</td>\n",
       "      <td>0.961283</td>\n",
       "      <td>0.122392</td>\n",
       "      <td>0.88</td>\n",
       "      <td>0.153386</td>\n",
       "      <td>-0.001018</td>\n",
       "    </tr>\n",
       "    <tr>\n",
       "      <th>0</th>\n",
       "      <td>2f1c79ff-1730-45f9-a0c7-04d071d4d3b1</td>\n",
       "      <td>0.297000</td>\n",
       "      <td>1.792664</td>\n",
       "      <td>0.963086</td>\n",
       "      <td>0.122828</td>\n",
       "      <td>0.88</td>\n",
       "      <td>0.222761</td>\n",
       "      <td>0.000809</td>\n",
       "    </tr>\n",
       "  </tbody>\n",
       "</table>\n",
       "</div>"
      ],
      "text/plain": [
       "                                subject     theta    Lambda     alpha  \\\n",
       "0  f9a528a4-cd95-47cd-af5d-fd7488fa2f5f  0.305000  1.793079  0.962542   \n",
       "0  8374ce52-07eb-4861-a570-7d92355dbb9a  0.357000  3.815127  0.960218   \n",
       "0  13785ad5-8555-462f-9207-e9038cd838a2  0.307000  1.792703  0.962185   \n",
       "0  781f10e6-4241-46bb-a233-43d993723633  0.302500  1.792021  0.913568   \n",
       "0  bf5cdead-3fa0-468a-86a6-f29b1c4d0665  0.279000  1.792060  0.961000   \n",
       "0  2fbb0673-a652-4c22-9d56-67076478a32e  0.396874  1.801989  0.931455   \n",
       "0  07bbb566-d0e4-4582-ab6a-28d93e7ab47f  0.301667  1.794128  0.961283   \n",
       "0  2f1c79ff-1730-45f9-a0c7-04d071d4d3b1  0.297000  1.792664  0.963086   \n",
       "\n",
       "        tau  beta     gamma     error  \n",
       "0  0.122725  0.88  0.235709 -0.002203  \n",
       "0  0.144087  0.88  0.217860 -0.002461  \n",
       "0  0.122728  0.88  0.194924 -0.028358  \n",
       "0  0.060888  0.88  0.132653  0.005530  \n",
       "0  0.121748  0.88  0.244419  0.011557  \n",
       "0  0.080177  0.88  8.049626  0.009787  \n",
       "0  0.122392  0.88  0.153386 -0.001018  \n",
       "0  0.122828  0.88  0.222761  0.000809  "
      ]
     },
     "execution_count": 16,
     "metadata": {},
     "output_type": "execute_result"
    }
   ],
   "source": [
    "params_MLS"
   ]
  },
  {
   "cell_type": "code",
   "execution_count": 17,
   "id": "ad83ef66",
   "metadata": {},
   "outputs": [],
   "source": [
    "\n",
    "params_MLS.to_csv('params_uncorrected.csv', index=False)\n",
    "params_stan.to_csv('params_corrected.csv', index=False)"
   ]
  },
  {
   "cell_type": "code",
   "execution_count": null,
   "id": "37eb680c",
   "metadata": {},
   "outputs": [
    {
     "data": {
      "application/vnd.microsoft.datawrangler.viewer.v0+json": {
       "columns": [
        {
         "name": "index",
         "rawType": "int64",
         "type": "integer"
        },
        {
         "name": "theta",
         "rawType": "float64",
         "type": "float"
        },
        {
         "name": "Lambda",
         "rawType": "float64",
         "type": "float"
        },
        {
         "name": "alpha",
         "rawType": "float64",
         "type": "float"
        },
        {
         "name": "tau",
         "rawType": "float64",
         "type": "float"
        },
        {
         "name": "gamma",
         "rawType": "float64",
         "type": "float"
        },
        {
         "name": "error",
         "rawType": "float64",
         "type": "float"
        }
       ],
       "ref": "c388bba9-e2ce-4a15-8012-61a9222963d4",
       "rows": [
        [
         "0",
         "0.073",
         "0.01",
         "0.032",
         "0.057",
         "1.429",
         "0.002"
        ],
        [
         "0",
         "0.048",
         "2.023",
         "0.001",
         "0.025",
         "0.032",
         "0.022"
        ],
        [
         "0",
         "0.16",
         "0.003",
         "0.0",
         "0.011",
         "4.148",
         "0.003"
        ],
        [
         "0",
         "0.0",
         "0.002",
         "0.047",
         "0.062",
         "0.02",
         "0.0"
        ],
        [
         "0",
         "0.013",
         "0.019",
         "0.042",
         "0.063",
         "0.615",
         "0.002"
        ],
        [
         "0",
         "0.094",
         "0.009",
         "0.028",
         "0.042",
         "7.866",
         "0.016"
        ],
        [
         "0",
         "0.007",
         "0.001",
         "0.0",
         "0.001",
         "0.014",
         "0.008"
        ],
        [
         "0",
         "0.016",
         "0.001",
         "0.001",
         "0.003",
         "0.014",
         "0.01"
        ]
       ],
       "shape": {
        "columns": 6,
        "rows": 8
       }
      },
      "text/html": [
       "<div>\n",
       "<style scoped>\n",
       "    .dataframe tbody tr th:only-of-type {\n",
       "        vertical-align: middle;\n",
       "    }\n",
       "\n",
       "    .dataframe tbody tr th {\n",
       "        vertical-align: top;\n",
       "    }\n",
       "\n",
       "    .dataframe thead th {\n",
       "        text-align: right;\n",
       "    }\n",
       "</style>\n",
       "<table border=\"1\" class=\"dataframe\">\n",
       "  <thead>\n",
       "    <tr style=\"text-align: right;\">\n",
       "      <th></th>\n",
       "      <th>theta</th>\n",
       "      <th>Lambda</th>\n",
       "      <th>alpha</th>\n",
       "      <th>tau</th>\n",
       "      <th>gamma</th>\n",
       "      <th>error</th>\n",
       "    </tr>\n",
       "  </thead>\n",
       "  <tbody>\n",
       "    <tr>\n",
       "      <th>0</th>\n",
       "      <td>0.073</td>\n",
       "      <td>0.010</td>\n",
       "      <td>0.032</td>\n",
       "      <td>0.057</td>\n",
       "      <td>1.429</td>\n",
       "      <td>0.002</td>\n",
       "    </tr>\n",
       "    <tr>\n",
       "      <th>0</th>\n",
       "      <td>0.048</td>\n",
       "      <td>2.023</td>\n",
       "      <td>0.001</td>\n",
       "      <td>0.025</td>\n",
       "      <td>0.032</td>\n",
       "      <td>0.022</td>\n",
       "    </tr>\n",
       "    <tr>\n",
       "      <th>0</th>\n",
       "      <td>0.160</td>\n",
       "      <td>0.003</td>\n",
       "      <td>0.000</td>\n",
       "      <td>0.011</td>\n",
       "      <td>4.148</td>\n",
       "      <td>0.003</td>\n",
       "    </tr>\n",
       "    <tr>\n",
       "      <th>0</th>\n",
       "      <td>0.000</td>\n",
       "      <td>0.002</td>\n",
       "      <td>0.047</td>\n",
       "      <td>0.062</td>\n",
       "      <td>0.020</td>\n",
       "      <td>0.000</td>\n",
       "    </tr>\n",
       "    <tr>\n",
       "      <th>0</th>\n",
       "      <td>0.013</td>\n",
       "      <td>0.019</td>\n",
       "      <td>0.042</td>\n",
       "      <td>0.063</td>\n",
       "      <td>0.615</td>\n",
       "      <td>0.002</td>\n",
       "    </tr>\n",
       "    <tr>\n",
       "      <th>0</th>\n",
       "      <td>0.094</td>\n",
       "      <td>0.009</td>\n",
       "      <td>0.028</td>\n",
       "      <td>0.042</td>\n",
       "      <td>7.866</td>\n",
       "      <td>0.016</td>\n",
       "    </tr>\n",
       "    <tr>\n",
       "      <th>0</th>\n",
       "      <td>0.007</td>\n",
       "      <td>0.001</td>\n",
       "      <td>0.000</td>\n",
       "      <td>0.001</td>\n",
       "      <td>0.014</td>\n",
       "      <td>0.008</td>\n",
       "    </tr>\n",
       "    <tr>\n",
       "      <th>0</th>\n",
       "      <td>0.016</td>\n",
       "      <td>0.001</td>\n",
       "      <td>0.001</td>\n",
       "      <td>0.003</td>\n",
       "      <td>0.014</td>\n",
       "      <td>0.010</td>\n",
       "    </tr>\n",
       "  </tbody>\n",
       "</table>\n",
       "</div>"
      ],
      "text/plain": [
       "   theta  Lambda  alpha    tau  gamma  error\n",
       "0  0.073   0.010  0.032  0.057  1.429  0.002\n",
       "0  0.048   2.023  0.001  0.025  0.032  0.022\n",
       "0  0.160   0.003  0.000  0.011  4.148  0.003\n",
       "0  0.000   0.002  0.047  0.062  0.020  0.000\n",
       "0  0.013   0.019  0.042  0.063  0.615  0.002\n",
       "0  0.094   0.009  0.028  0.042  7.866  0.016\n",
       "0  0.007   0.001  0.000  0.001  0.014  0.008\n",
       "0  0.016   0.001  0.001  0.003  0.014  0.010"
      ]
     },
     "execution_count": 18,
     "metadata": {},
     "output_type": "execute_result"
    }
   ],
   "source": [
    "np.abs(params_stan[['theta', 'Lambda', 'alpha', 'tau', 'gamma', 'error']] - params_MLS[['theta', 'Lambda', 'alpha', 'tau', 'gamma', 'error']]).round(3)"
   ]
  },
  {
   "cell_type": "code",
   "execution_count": null,
   "id": "ed3add5c",
   "metadata": {},
   "outputs": [
    {
     "data": {
      "application/vnd.microsoft.datawrangler.viewer.v0+json": {
       "columns": [
        {
         "name": "index",
         "rawType": "int64",
         "type": "integer"
        },
        {
         "name": "theta",
         "rawType": "float64",
         "type": "float"
        },
        {
         "name": "Lambda",
         "rawType": "float64",
         "type": "float"
        },
        {
         "name": "alpha",
         "rawType": "float64",
         "type": "float"
        },
        {
         "name": "tau",
         "rawType": "float64",
         "type": "float"
        },
        {
         "name": "gamma",
         "rawType": "float64",
         "type": "float"
        },
        {
         "name": "error",
         "rawType": "float64",
         "type": "float"
        }
       ],
       "ref": "dac27829-da11-437a-a3d1-4a5e70f9155b",
       "rows": [
        [
         "0",
         "31.183",
         "0.548",
         "3.39",
         "86.229",
         "85.842",
         "-367.072"
        ],
        [
         "0",
         "15.368",
         "112.895",
         "0.056",
         "20.694",
         "12.855",
         "112.359"
        ],
        [
         "0",
         "34.332",
         "0.165",
         "0.041",
         "9.524",
         "95.512",
         "-12.023"
        ],
        [
         "0",
         "0.0",
         "0.138",
         "4.93",
         "50.518",
         "17.485",
         "2.257"
        ],
        [
         "0",
         "4.411",
         "1.09",
         "4.559",
         "108.788",
         "71.565",
         "20.875"
        ],
        [
         "0",
         "30.981",
         "0.518",
         "2.954",
         "34.257",
         "4288.309",
         "-266.949"
        ],
        [
         "0",
         "2.162",
         "0.037",
         "0.028",
         "0.471",
         "8.137",
         "114.67"
        ],
        [
         "0",
         "5.112",
         "0.078",
         "0.061",
         "2.364",
         "5.928",
         "-108.873"
        ]
       ],
       "shape": {
        "columns": 6,
        "rows": 8
       }
      },
      "text/html": [
       "<div>\n",
       "<style scoped>\n",
       "    .dataframe tbody tr th:only-of-type {\n",
       "        vertical-align: middle;\n",
       "    }\n",
       "\n",
       "    .dataframe tbody tr th {\n",
       "        vertical-align: top;\n",
       "    }\n",
       "\n",
       "    .dataframe thead th {\n",
       "        text-align: right;\n",
       "    }\n",
       "</style>\n",
       "<table border=\"1\" class=\"dataframe\">\n",
       "  <thead>\n",
       "    <tr style=\"text-align: right;\">\n",
       "      <th></th>\n",
       "      <th>theta</th>\n",
       "      <th>Lambda</th>\n",
       "      <th>alpha</th>\n",
       "      <th>tau</th>\n",
       "      <th>gamma</th>\n",
       "      <th>error</th>\n",
       "    </tr>\n",
       "  </thead>\n",
       "  <tbody>\n",
       "    <tr>\n",
       "      <th>0</th>\n",
       "      <td>31.183</td>\n",
       "      <td>0.548</td>\n",
       "      <td>3.390</td>\n",
       "      <td>86.229</td>\n",
       "      <td>85.842</td>\n",
       "      <td>-367.072</td>\n",
       "    </tr>\n",
       "    <tr>\n",
       "      <th>0</th>\n",
       "      <td>15.368</td>\n",
       "      <td>112.895</td>\n",
       "      <td>0.056</td>\n",
       "      <td>20.694</td>\n",
       "      <td>12.855</td>\n",
       "      <td>112.359</td>\n",
       "    </tr>\n",
       "    <tr>\n",
       "      <th>0</th>\n",
       "      <td>34.332</td>\n",
       "      <td>0.165</td>\n",
       "      <td>0.041</td>\n",
       "      <td>9.524</td>\n",
       "      <td>95.512</td>\n",
       "      <td>-12.023</td>\n",
       "    </tr>\n",
       "    <tr>\n",
       "      <th>0</th>\n",
       "      <td>0.000</td>\n",
       "      <td>0.138</td>\n",
       "      <td>4.930</td>\n",
       "      <td>50.518</td>\n",
       "      <td>17.485</td>\n",
       "      <td>2.257</td>\n",
       "    </tr>\n",
       "    <tr>\n",
       "      <th>0</th>\n",
       "      <td>4.411</td>\n",
       "      <td>1.090</td>\n",
       "      <td>4.559</td>\n",
       "      <td>108.788</td>\n",
       "      <td>71.565</td>\n",
       "      <td>20.875</td>\n",
       "    </tr>\n",
       "    <tr>\n",
       "      <th>0</th>\n",
       "      <td>30.981</td>\n",
       "      <td>0.518</td>\n",
       "      <td>2.954</td>\n",
       "      <td>34.257</td>\n",
       "      <td>4288.309</td>\n",
       "      <td>-266.949</td>\n",
       "    </tr>\n",
       "    <tr>\n",
       "      <th>0</th>\n",
       "      <td>2.162</td>\n",
       "      <td>0.037</td>\n",
       "      <td>0.028</td>\n",
       "      <td>0.471</td>\n",
       "      <td>8.137</td>\n",
       "      <td>114.670</td>\n",
       "    </tr>\n",
       "    <tr>\n",
       "      <th>0</th>\n",
       "      <td>5.112</td>\n",
       "      <td>0.078</td>\n",
       "      <td>0.061</td>\n",
       "      <td>2.364</td>\n",
       "      <td>5.928</td>\n",
       "      <td>-108.873</td>\n",
       "    </tr>\n",
       "  </tbody>\n",
       "</table>\n",
       "</div>"
      ],
      "text/plain": [
       "    theta   Lambda  alpha      tau     gamma    error\n",
       "0  31.183    0.548  3.390   86.229    85.842 -367.072\n",
       "0  15.368  112.895  0.056   20.694    12.855  112.359\n",
       "0  34.332    0.165  0.041    9.524    95.512  -12.023\n",
       "0   0.000    0.138  4.930   50.518    17.485    2.257\n",
       "0   4.411    1.090  4.559  108.788    71.565   20.875\n",
       "0  30.981    0.518  2.954   34.257  4288.309 -266.949\n",
       "0   2.162    0.037  0.028    0.471     8.137  114.670\n",
       "0   5.112    0.078  0.061    2.364     5.928 -108.873"
      ]
     },
     "execution_count": 19,
     "metadata": {},
     "output_type": "execute_result"
    }
   ],
   "source": [
    "(100*(np.abs(params_stan[['theta', 'Lambda', 'alpha', 'tau', 'gamma', 'error']] - params_MLS[['theta', 'Lambda', 'alpha', 'tau', 'gamma', 'error']]) / params_stan[['theta', 'Lambda', 'alpha', 'tau', 'gamma', 'error']])).round(3)"
   ]
  },
  {
   "cell_type": "code",
   "execution_count": null,
   "id": "fe8d0d02",
   "metadata": {},
   "outputs": [
    {
     "name": "stderr",
     "output_type": "stream",
     "text": [
      "/var/folders/73/99zh84sx6gx2kqgq02_rm3zh0000gp/T/ipykernel_47769/606208281.py:16: MatplotlibDeprecationWarning: The 'labels' parameter of boxplot() has been renamed 'tick_labels' since Matplotlib 3.9; support for the old name will be dropped in 3.11.\n",
      "  plt.boxplot(data[0], positions=positions - width/2, widths=0.3, patch_artist=True, boxprops=dict(facecolor='C0'), medianprops=dict(color='black'), labels=params_to_plot)\n"
     ]
    },
    {
     "data": {
      "image/png": "[encoded data removed]",
      "text/plain": [
       "<Figure size 640x480 with 1 Axes>"
      ]
     },
     "metadata": {},
     "output_type": "display_data"
    },
    {
     "data": {
      "text/plain": [
       "<Figure size 640x480 with 0 Axes>"
      ]
     },
     "metadata": {},
     "output_type": "display_data"
    }
   ],
   "source": [
    "from matplotlib.patches import Patch\n",
    "\n",
    "params_to_plot = ['theta', 'Lambda', 'alpha', 'tau', 'gamma', 'error']\n",
    "\n",
    "# Prepare data for boxplot\n",
    "data = [\n",
    "    params_stan[params_to_plot].values,\n",
    "    params_MLS[params_to_plot].values\n",
    "]\n",
    " \n",
    "# Create positions for the boxplots\n",
    "positions = np.arange(len(params_to_plot))\n",
    "width = 0.35\n",
    "\n",
    "# Stan boxplots\n",
    "plt.boxplot(data[0], positions=positions - width/2, widths=0.3, patch_artist=True, boxprops=dict(facecolor='C0'), medianprops=dict(color='black'), labels=params_to_plot)\n",
    "plt.boxplot(data[1], positions=positions + width/2, widths=0.3, patch_artist=True, boxprops=dict(facecolor='C1'), medianprops=dict(color='black'))\n",
    "plt.xticks(positions, params_to_plot)\n",
    "\n",
    "plt.xlabel('Parameter')\n",
    "plt.ylabel('Value')\n",
    "plt.title('Boxplot of Parameters: Corrected vs Uncorrected')\n",
    "\n",
    "# Add manual legend\n",
    "stan_patch = Patch(color='C0', label='Correct')\n",
    "mls_patch = Patch(color='C1', label='Uncorrect')\n",
    "plt.legend(handles=[stan_patch, mls_patch])\n",
    "\n",
    "plt.show()\n",
    "\n",
    "plt.savefig('boxplot.png', dpi=300, bbox_inches='tight')"
   ]
  },
  {
   "cell_type": "code",
   "execution_count": null,
   "id": "da2094cb",
   "metadata": {},
   "outputs": [
    {
     "name": "stderr",
     "output_type": "stream",
     "text": [
      "/var/folders/73/99zh84sx6gx2kqgq02_rm3zh0000gp/T/ipykernel_47769/3121457440.py:40: UserWarning: No artists with labels found to put in legend.  Note that artists whose label start with an underscore are ignored when legend() is called with no argument.\n",
      "  plt.legend()\n"
     ]
    },
    {
     "data": {
      "image/png": "[encoded data removed]",
      "text/plain": [
       "<Figure size 1000x1000 with 6 Axes>"
      ]
     },
     "metadata": {},
     "output_type": "display_data"
    },
    {
     "data": {
      "text/plain": [
       "<Figure size 640x480 with 0 Axes>"
      ]
     },
     "metadata": {},
     "output_type": "display_data"
    }
   ],
   "source": [
    "# Get mask for subjects with Stan AUC <= 0.5\n",
    "bad_subjects = auc_results.index[auc_results['roc_auc_stan'] > 0.5]\n",
    "plt.figure(figsize=(10, 10))\n",
    "\n",
    "\n",
    "for i, param in enumerate(params_to_plot):\n",
    "    for idx, (x_val, y_val) in enumerate(zip(params_MLS[param], params_stan[param])):\n",
    "        plt.subplot(3, 2, i + 1)\n",
    "        # Draw empty circle\n",
    "        plt.scatter(y_val, x_val, s=120, facecolors='none', edgecolors='blue', linewidths=1.5, zorder=2)\n",
    "        # Place subject number (idx+1) inside the circle\n",
    "        plt.text(y_val, x_val, str(idx + 1), fontsize=10, color='blue', ha='center', va='center', zorder=3)\n",
    "        # plt.text(y_val, x_val, str(idx + 1), fontsize=9, color='black', ha='right', va='bottom')\n",
    "    x = params_stan[param]\n",
    "    y = params_MLS[param]\n",
    "    # plt.scatter(y, x, alpha=0.7, color='blue')  # invert axes\n",
    "\n",
    "    # # Highlight in red where Stan AUC <= 0.5\n",
    "    # mask_bad = params_stan['subject'].isin(bad_subjects)\n",
    "    # plt.scatter(y[mask_bad], x[mask_bad], color='blue', alpha=0.8)\n",
    "\n",
    "    plt.xlabel(f'Correct {param}')\n",
    "    plt.ylabel(f'Uncorrect {param}')\n",
    "    plt.title(f'Correct vs Uncorrect for {param}')\n",
    "    \n",
    "    # Calculate Spearman correlation\n",
    "    spearman_corr = x.corr(y, method='spearman')\n",
    "    plt.text(0.05, 0.95, f'Spearman: {spearman_corr:.2f}', transform=plt.gca().transAxes, fontsize=12, verticalalignment='top')\n",
    "    \n",
    "    # Set equal axis range with 10% margin\n",
    "    min_val = min(x.min(), y.min())\n",
    "    max_val = max(x.max(), y.max())\n",
    "    data_range = max_val - min_val\n",
    "    margin = 0.1 * data_range\n",
    "    plt.xlim(min_val - margin, max_val + margin)\n",
    "    plt.ylim(min_val - margin, max_val + margin)\n",
    "    plt.plot([min_val - margin, max_val + margin], [min_val - margin, max_val + margin], 'k--', alpha=0.3)\n",
    "\n",
    "    if i == 0:\n",
    "        plt.legend()\n",
    "\n",
    "plt.tight_layout()\n",
    "plt.show()\n",
    "\n",
    "\n",
    "plt.savefig('scatter.png', dpi=300, bbox_inches='tight')"
   ]
  },
  {
   "cell_type": "code",
   "execution_count": 18,
   "id": "81c44457",
   "metadata": {},
   "outputs": [
    {
     "data": {
      "application/vnd.microsoft.datawrangler.viewer.v0+json": {
       "columns": [
        {
         "name": "index",
         "rawType": "object",
         "type": "string"
        },
        {
         "name": "roc_auc_stan",
         "rawType": "object",
         "type": "unknown"
        },
        {
         "name": "roc_auc_MLS",
         "rawType": "object",
         "type": "unknown"
        },
        {
         "name": "stan_time",
         "rawType": "object",
         "type": "unknown"
        },
        {
         "name": "MLS_time",
         "rawType": "object",
         "type": "unknown"
        }
       ],
       "ref": "23812fa0-9d2a-4687-880f-50065c333dbd",
       "rows": [
        [
         "f9a528a4-cd95-47cd-af5d-fd7488fa2f5f",
         "0.5",
         "0.5",
         null,
         null
        ],
        [
         "8374ce52-07eb-4861-a570-7d92355dbb9a",
         "0.5",
         "0.5",
         null,
         null
        ],
        [
         "13785ad5-8555-462f-9207-e9038cd838a2",
         "0.5",
         "0.5",
         null,
         null
        ],
        [
         "781f10e6-4241-46bb-a233-43d993723633",
         "0.5",
         "0.5",
         null,
         null
        ],
        [
         "bf5cdead-3fa0-468a-86a6-f29b1c4d0665",
         "0.5",
         "0.5",
         null,
         null
        ],
        [
         "2fbb0673-a652-4c22-9d56-67076478a32e",
         "0.5",
         "0.5",
         null,
         null
        ],
        [
         "07bbb566-d0e4-4582-ab6a-28d93e7ab47f",
         "0.5",
         "0.5",
         null,
         null
        ],
        [
         "2f1c79ff-1730-45f9-a0c7-04d071d4d3b1",
         "0.5",
         "0.5",
         null,
         null
        ]
       ],
       "shape": {
        "columns": 4,
        "rows": 8
       }
      },
      "text/html": [
       "<div>\n",
       "<style scoped>\n",
       "    .dataframe tbody tr th:only-of-type {\n",
       "        vertical-align: middle;\n",
       "    }\n",
       "\n",
       "    .dataframe tbody tr th {\n",
       "        vertical-align: top;\n",
       "    }\n",
       "\n",
       "    .dataframe thead th {\n",
       "        text-align: right;\n",
       "    }\n",
       "</style>\n",
       "<table border=\"1\" class=\"dataframe\">\n",
       "  <thead>\n",
       "    <tr style=\"text-align: right;\">\n",
       "      <th></th>\n",
       "      <th>roc_auc_stan</th>\n",
       "      <th>roc_auc_MLS</th>\n",
       "      <th>stan_time</th>\n",
       "      <th>MLS_time</th>\n",
       "    </tr>\n",
       "  </thead>\n",
       "  <tbody>\n",
       "    <tr>\n",
       "      <th>f9a528a4-cd95-47cd-af5d-fd7488fa2f5f</th>\n",
       "      <td>0.5</td>\n",
       "      <td>0.5</td>\n",
       "      <td>NaN</td>\n",
       "      <td>NaN</td>\n",
       "    </tr>\n",
       "    <tr>\n",
       "      <th>8374ce52-07eb-4861-a570-7d92355dbb9a</th>\n",
       "      <td>0.5</td>\n",
       "      <td>0.5</td>\n",
       "      <td>NaN</td>\n",
       "      <td>NaN</td>\n",
       "    </tr>\n",
       "    <tr>\n",
       "      <th>13785ad5-8555-462f-9207-e9038cd838a2</th>\n",
       "      <td>0.5</td>\n",
       "      <td>0.5</td>\n",
       "      <td>NaN</td>\n",
       "      <td>NaN</td>\n",
       "    </tr>\n",
       "    <tr>\n",
       "      <th>781f10e6-4241-46bb-a233-43d993723633</th>\n",
       "      <td>0.5</td>\n",
       "      <td>0.5</td>\n",
       "      <td>NaN</td>\n",
       "      <td>NaN</td>\n",
       "    </tr>\n",
       "    <tr>\n",
       "      <th>bf5cdead-3fa0-468a-86a6-f29b1c4d0665</th>\n",
       "      <td>0.5</td>\n",
       "      <td>0.5</td>\n",
       "      <td>NaN</td>\n",
       "      <td>NaN</td>\n",
       "    </tr>\n",
       "    <tr>\n",
       "      <th>2fbb0673-a652-4c22-9d56-67076478a32e</th>\n",
       "      <td>0.5</td>\n",
       "      <td>0.5</td>\n",
       "      <td>NaN</td>\n",
       "      <td>NaN</td>\n",
       "    </tr>\n",
       "    <tr>\n",
       "      <th>07bbb566-d0e4-4582-ab6a-28d93e7ab47f</th>\n",
       "      <td>0.5</td>\n",
       "      <td>0.5</td>\n",
       "      <td>NaN</td>\n",
       "      <td>NaN</td>\n",
       "    </tr>\n",
       "    <tr>\n",
       "      <th>2f1c79ff-1730-45f9-a0c7-04d071d4d3b1</th>\n",
       "      <td>0.5</td>\n",
       "      <td>0.5</td>\n",
       "      <td>NaN</td>\n",
       "      <td>NaN</td>\n",
       "    </tr>\n",
       "  </tbody>\n",
       "</table>\n",
       "</div>"
      ],
      "text/plain": [
       "                                     roc_auc_stan roc_auc_MLS stan_time  \\\n",
       "f9a528a4-cd95-47cd-af5d-fd7488fa2f5f          0.5         0.5       NaN   \n",
       "8374ce52-07eb-4861-a570-7d92355dbb9a          0.5         0.5       NaN   \n",
       "13785ad5-8555-462f-9207-e9038cd838a2          0.5         0.5       NaN   \n",
       "781f10e6-4241-46bb-a233-43d993723633          0.5         0.5       NaN   \n",
       "bf5cdead-3fa0-468a-86a6-f29b1c4d0665          0.5         0.5       NaN   \n",
       "2fbb0673-a652-4c22-9d56-67076478a32e          0.5         0.5       NaN   \n",
       "07bbb566-d0e4-4582-ab6a-28d93e7ab47f          0.5         0.5       NaN   \n",
       "2f1c79ff-1730-45f9-a0c7-04d071d4d3b1          0.5         0.5       NaN   \n",
       "\n",
       "                                     MLS_time  \n",
       "f9a528a4-cd95-47cd-af5d-fd7488fa2f5f      NaN  \n",
       "8374ce52-07eb-4861-a570-7d92355dbb9a      NaN  \n",
       "13785ad5-8555-462f-9207-e9038cd838a2      NaN  \n",
       "781f10e6-4241-46bb-a233-43d993723633      NaN  \n",
       "bf5cdead-3fa0-468a-86a6-f29b1c4d0665      NaN  \n",
       "2fbb0673-a652-4c22-9d56-67076478a32e      NaN  \n",
       "07bbb566-d0e4-4582-ab6a-28d93e7ab47f      NaN  \n",
       "2f1c79ff-1730-45f9-a0c7-04d071d4d3b1      NaN  "
      ]
     },
     "execution_count": 18,
     "metadata": {},
     "output_type": "execute_result"
    }
   ],
   "source": [
    "auc_results"
   ]
  }
 ],
 "metadata": {
  "kernelspec": {
   "display_name": "mgme_task",
   "language": "python",
   "name": "python3"
  },
  "language_info": {
   "codemirror_mode": {
    "name": "ipython",
    "version": 3
   },
   "file_extension": ".py",
   "mimetype": "text/x-python",
   "name": "python",
   "nbconvert_exporter": "python",
   "pygments_lexer": "ipython3",
   "version": "3.10.13"
  }
 },
 "nbformat": 4,
 "nbformat_minor": 5
}
