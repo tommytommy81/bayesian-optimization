{
 "cells": [
  {
   "cell_type": "markdown",
   "id": "666e482c",
   "metadata": {},
   "source": [
    "# Bayesian Estimation of Prospect Theory Parameters\n",
    "This notebook builds a PyMC model to estimate parameters of a decision-making model using behavioral data."
   ]
  },
  {
   "cell_type": "code",
   "execution_count": 1,
   "id": "89c9ce70",
   "metadata": {},
   "outputs": [],
   "source": [
    "import pymc as pm\n",
    "import numpy as np\n",
    "import pandas as pd\n",
    "# import aesara.tensor as at\n",
    "import arviz as az\n",
    "import pickle"
   ]
  },
  {
   "cell_type": "code",
   "execution_count": 3,
   "id": "a209573b",
   "metadata": {},
   "outputs": [],
   "source": [
    "fname = 'results_raw.pickle'\n",
    "# Create a writer object\n",
    "file = open(fname, 'rb')\n",
    "\n",
    "# dump information\n",
    "results_decision = pickle.load(file)\n",
    "\n",
    "data = pd.concat(results_decision, names=['subject'])\n"
   ]
  },
  {
   "cell_type": "markdown",
   "id": "81a5b603",
   "metadata": {},
   "source": [
    "## Load Data"
   ]
  },
  {
   "cell_type": "code",
   "execution_count": 4,
   "id": "493d0d92",
   "metadata": {},
   "outputs": [
    {
     "data": {
      "application/vnd.microsoft.datawrangler.viewer.v0+json": {
       "columns": [
        {
         "name": "('subject', None)",
         "rawType": "object",
         "type": "unknown"
        },
        {
         "name": "trial_num",
         "rawType": "int64",
         "type": "integer"
        },
        {
         "name": "response_time",
         "rawType": "float64",
         "type": "float"
        },
        {
         "name": "invest",
         "rawType": "float64",
         "type": "float"
        },
        {
         "name": "prob_win",
         "rawType": "float64",
         "type": "float"
        },
        {
         "name": "prob_loss",
         "rawType": "float64",
         "type": "float"
        },
        {
         "name": "prob_ambi",
         "rawType": "float64",
         "type": "float"
        },
        {
         "name": "gain",
         "rawType": "float64",
         "type": "float"
        },
        {
         "name": "loss",
         "rawType": "float64",
         "type": "float"
        },
        {
         "name": "lottery_trial_num",
         "rawType": "float64",
         "type": "float"
        },
        {
         "name": "group_responsibility",
         "rawType": "float64",
         "type": "float"
        }
       ],
       "ref": "63ea0565-febc-4a7a-ba53-b38d6f361568",
       "rows": [
        [
         "('11112', 0)",
         "1",
         "13.293309800093994",
         "1.0",
         "0.2",
         "0.3",
         "0.5",
         "7000.0",
         "-3000.0",
         "29.0",
         "0.0"
        ],
        [
         "('11112', 1)",
         "2",
         "5.902033899910748",
         "0.0",
         "0.2",
         "0.0",
         "0.8",
         "10000.0",
         "-6000.0",
         "46.0",
         "0.0"
        ],
        [
         "('11112', 2)",
         "3",
         "7.698849800042808",
         "1.0",
         "0.4",
         "0.3",
         "0.3",
         "4000.0",
         "-2000.0",
         "19.0",
         "0.0"
        ],
        [
         "('11112', 3)",
         "4",
         "10.992664400022477",
         "0.0",
         "0.5",
         "0.0",
         "0.5",
         "3000.0",
         "-7000.0",
         "3.0",
         "0.0"
        ],
        [
         "('11112', 4)",
         "5",
         "7.2196380000095814",
         "1.0",
         "0.0",
         "0.2",
         "0.8",
         "5000.0",
         "-1000.0",
         "43.0",
         "0.0"
        ]
       ],
       "shape": {
        "columns": 10,
        "rows": 5
       }
      },
      "text/html": [
       "<div>\n",
       "<style scoped>\n",
       "    .dataframe tbody tr th:only-of-type {\n",
       "        vertical-align: middle;\n",
       "    }\n",
       "\n",
       "    .dataframe tbody tr th {\n",
       "        vertical-align: top;\n",
       "    }\n",
       "\n",
       "    .dataframe thead th {\n",
       "        text-align: right;\n",
       "    }\n",
       "</style>\n",
       "<table border=\"1\" class=\"dataframe\">\n",
       "  <thead>\n",
       "    <tr style=\"text-align: right;\">\n",
       "      <th></th>\n",
       "      <th></th>\n",
       "      <th>trial_num</th>\n",
       "      <th>response_time</th>\n",
       "      <th>invest</th>\n",
       "      <th>prob_win</th>\n",
       "      <th>prob_loss</th>\n",
       "      <th>prob_ambi</th>\n",
       "      <th>gain</th>\n",
       "      <th>loss</th>\n",
       "      <th>lottery_trial_num</th>\n",
       "      <th>group_responsibility</th>\n",
       "    </tr>\n",
       "    <tr>\n",
       "      <th>subject</th>\n",
       "      <th></th>\n",
       "      <th></th>\n",
       "      <th></th>\n",
       "      <th></th>\n",
       "      <th></th>\n",
       "      <th></th>\n",
       "      <th></th>\n",
       "      <th></th>\n",
       "      <th></th>\n",
       "      <th></th>\n",
       "      <th></th>\n",
       "    </tr>\n",
       "  </thead>\n",
       "  <tbody>\n",
       "    <tr>\n",
       "      <th rowspan=\"5\" valign=\"top\">11112</th>\n",
       "      <th>0</th>\n",
       "      <td>1</td>\n",
       "      <td>13.293310</td>\n",
       "      <td>1.0</td>\n",
       "      <td>0.2</td>\n",
       "      <td>0.3</td>\n",
       "      <td>0.5</td>\n",
       "      <td>7000.0</td>\n",
       "      <td>-3000.0</td>\n",
       "      <td>29.0</td>\n",
       "      <td>0.0</td>\n",
       "    </tr>\n",
       "    <tr>\n",
       "      <th>1</th>\n",
       "      <td>2</td>\n",
       "      <td>5.902034</td>\n",
       "      <td>0.0</td>\n",
       "      <td>0.2</td>\n",
       "      <td>0.0</td>\n",
       "      <td>0.8</td>\n",
       "      <td>10000.0</td>\n",
       "      <td>-6000.0</td>\n",
       "      <td>46.0</td>\n",
       "      <td>0.0</td>\n",
       "    </tr>\n",
       "    <tr>\n",
       "      <th>2</th>\n",
       "      <td>3</td>\n",
       "      <td>7.698850</td>\n",
       "      <td>1.0</td>\n",
       "      <td>0.4</td>\n",
       "      <td>0.3</td>\n",
       "      <td>0.3</td>\n",
       "      <td>4000.0</td>\n",
       "      <td>-2000.0</td>\n",
       "      <td>19.0</td>\n",
       "      <td>0.0</td>\n",
       "    </tr>\n",
       "    <tr>\n",
       "      <th>3</th>\n",
       "      <td>4</td>\n",
       "      <td>10.992664</td>\n",
       "      <td>0.0</td>\n",
       "      <td>0.5</td>\n",
       "      <td>0.0</td>\n",
       "      <td>0.5</td>\n",
       "      <td>3000.0</td>\n",
       "      <td>-7000.0</td>\n",
       "      <td>3.0</td>\n",
       "      <td>0.0</td>\n",
       "    </tr>\n",
       "    <tr>\n",
       "      <th>4</th>\n",
       "      <td>5</td>\n",
       "      <td>7.219638</td>\n",
       "      <td>1.0</td>\n",
       "      <td>0.0</td>\n",
       "      <td>0.2</td>\n",
       "      <td>0.8</td>\n",
       "      <td>5000.0</td>\n",
       "      <td>-1000.0</td>\n",
       "      <td>43.0</td>\n",
       "      <td>0.0</td>\n",
       "    </tr>\n",
       "  </tbody>\n",
       "</table>\n",
       "</div>"
      ],
      "text/plain": [
       "           trial_num  response_time  invest  prob_win  prob_loss  prob_ambi  \\\n",
       "subject                                                                       \n",
       "11112   0          1      13.293310     1.0       0.2        0.3        0.5   \n",
       "        1          2       5.902034     0.0       0.2        0.0        0.8   \n",
       "        2          3       7.698850     1.0       0.4        0.3        0.3   \n",
       "        3          4      10.992664     0.0       0.5        0.0        0.5   \n",
       "        4          5       7.219638     1.0       0.0        0.2        0.8   \n",
       "\n",
       "              gain    loss  lottery_trial_num  group_responsibility  \n",
       "subject                                                              \n",
       "11112   0   7000.0 -3000.0               29.0                   0.0  \n",
       "        1  10000.0 -6000.0               46.0                   0.0  \n",
       "        2   4000.0 -2000.0               19.0                   0.0  \n",
       "        3   3000.0 -7000.0                3.0                   0.0  \n",
       "        4   5000.0 -1000.0               43.0                   0.0  "
      ]
     },
     "execution_count": 4,
     "metadata": {},
     "output_type": "execute_result"
    }
   ],
   "source": [
    "# Load your dataset here\n",
    "# It should have columns: invest, potential_gain, potential_loss, probability_win_percent, probability_loss_percent\n",
    "\n",
    "# Example (you should replace this with real data loading)\n",
    "# data = pd.read_csv(\"your_data.csv\")\n",
    "data.head()\n"
   ]
  },
  {
   "cell_type": "markdown",
   "id": "8c9dc599",
   "metadata": {},
   "source": [
    "## Define Utility Functions"
   ]
  },
  {
   "cell_type": "code",
   "execution_count": 17,
   "id": "768f9d99",
   "metadata": {},
   "outputs": [],
   "source": [
    "def calc_eta(green, red, theta):\n",
    "    return green + (1 - green - red) * theta\n",
    "\n",
    "def calc_subj_prob(p, gamma):\n",
    "    return (p ** gamma) / ((p ** gamma + (1 - p) ** gamma) ** (1 / gamma))\n",
    "\n",
    "\n",
    "def calc_subj_values(x, Lambda, alpha, beta):\n",
    "    \"\"\"Calculates the subjective value of gains and losses, given an alpha parameter. Lambda estimate.\n",
    "    Alpha could be estimated but used as constant=0.9.\"\"\"\n",
    "    return pm.math.switch(\n",
    "        x >= 0,\n",
    "        x ** alpha,\n",
    "        -Lambda * ((-x) ** beta)\n",
    "    )\n",
    "\n",
    "def pt_utility(gain, loss, p_win, p_loss, theta, Lambda, alpha, beta, gamma):\n",
    "    eta_gain = calc_eta(p_win, p_loss, theta).clip(0,1)\n",
    "    eta_loss = calc_eta(p_loss, p_win, 1 - theta).clip(0,1)\n",
    "    v_gain = calc_subj_values(gain, Lambda, alpha, beta)\n",
    "    v_loss = calc_subj_values(-loss, Lambda, alpha, beta)\n",
    "    pi_gain = calc_subj_prob(eta_gain, gamma)\n",
    "    pi_loss = calc_subj_prob(eta_loss, gamma)\n",
    "    return v_gain * pi_gain + v_loss * pi_loss\n"
   ]
  },
  {
   "cell_type": "markdown",
   "id": "7c9fd92c",
   "metadata": {},
   "source": [
    "## Build and Sample the Bayesian Model"
   ]
  },
  {
   "cell_type": "code",
   "execution_count": 34,
   "id": "4d9625f2",
   "metadata": {},
   "outputs": [
    {
     "name": "stderr",
     "output_type": "stream",
     "text": [
      "Initializing NUTS using jitter+adapt_diag...\n",
      "Multiprocess sampling (4 chains in 4 jobs)\n",
      "NUTS: [theta, Lambda, gamma, error]\n"
     ]
    },
    {
     "data": {
      "text/html": [
       "<pre style=\"white-space:pre;overflow-x:auto;line-height:normal;font-family:Menlo,'DejaVu Sans Mono',consolas,'Courier New',monospace\">/Users/administrator/miniforge3/envs/mgme_task/lib/python3.10/site-packages/rich/live.py:231: UserWarning: install \n",
       "\"ipywidgets\" for Jupyter support\n",
       "  warnings.warn('install \"ipywidgets\" for Jupyter support')\n",
       "</pre>\n"
      ],
      "text/plain": [
       "/Users/administrator/miniforge3/envs/mgme_task/lib/python3.10/site-packages/rich/live.py:231: UserWarning: install \n",
       "\"ipywidgets\" for Jupyter support\n",
       "  warnings.warn('install \"ipywidgets\" for Jupyter support')\n"
      ]
     },
     "metadata": {},
     "output_type": "display_data"
    },
    {
     "data": {
      "text/html": [
       "<pre style=\"white-space:pre;overflow-x:auto;line-height:normal;font-family:Menlo,'DejaVu Sans Mono',consolas,'Courier New',monospace\"></pre>\n"
      ],
      "text/plain": []
     },
     "metadata": {},
     "output_type": "display_data"
    },
    {
     "name": "stderr",
     "output_type": "stream",
     "text": [
      "Sampling 4 chains for 1_000 tune and 2_000 draw iterations (4_000 + 8_000 draws total) took 5 seconds.\n",
      "There were 8000 divergences after tuning. Increase `target_accept` or reparameterize.\n",
      "The rhat statistic is larger than 1.01 for some parameters. This indicates problems during sampling. See https://arxiv.org/abs/1903.08008 for details\n",
      "The effective sample size per chain is smaller than 100 for some parameters.  A higher number is needed for reliable rhat and ess computation. See https://arxiv.org/abs/1903.08008 for details\n"
     ]
    }
   ],
   "source": [
    "with pm.Model() as model:\n",
    "    # Priors\n",
    "    theta = pm.Lognormal('theta', mu=0, sigma=1)\n",
    "    Lambda = pm.Lognormal('Lambda', mu=0, sigma=1)\n",
    "    tau = 0.4#pm.Lognormal('tau', mu=0, sigma=1)\n",
    "    alpha = 0.9#pm.Lognormal('alpha', mu=0, sigma=1)\n",
    "    beta = 0.9#pm.Lognormal('beta', mu=0, sigma=1)\n",
    "    gamma = pm.Lognormal('gamma', mu=0, sigma=1)\n",
    "    error = pm.Normal('error', mu=0, sigma=1)\n",
    "\n",
    "    # Data\n",
    "    gain = pm.Data('gain', data['gain'])\n",
    "    loss = pm.Data('loss', data['loss'])\n",
    "    p_win = pm.Data('p_win', data['prob_win'])\n",
    "    p_loss = pm.Data('p_loss', data['prob_loss'])\n",
    "    invest = pm.Data('invest', data['invest'])\n",
    "\n",
    "    # Model logic\n",
    "    utility = pt_utility(gain, loss, p_win, p_loss, theta, Lambda, alpha, beta, gamma)\n",
    "    # prob = pm.Deterministic('prob', 1 / (1 + np.exp(-tau * (utility - error))))\n",
    "    prob = pm.Deterministic('prob', pm.math.sigmoid(tau * (utility - error)))\n",
    "\n",
    "    # Likelihood\n",
    "    y_obs = pm.Bernoulli('y_obs', p=prob, observed=invest)\n",
    "\n",
    "    # Sampling\n",
    "    trace = pm.sample(2000, tune=1000, target_accept=0.95, return_inferencedata=True)\n"
   ]
  },
  {
   "cell_type": "code",
   "execution_count": null,
   "id": "bec8e7da",
   "metadata": {},
   "outputs": [],
   "source": [
    "pm.model_to_graphviz(model)\n"
   ]
  },
  {
   "cell_type": "code",
   "execution_count": 30,
   "id": "7a92388f",
   "metadata": {},
   "outputs": [
    {
     "name": "stderr",
     "output_type": "stream",
     "text": [
      "/Users/administrator/miniforge3/envs/mgme_task/lib/python3.10/site-packages/arviz/stats/diagnostics.py:509: RuntimeWarning: invalid value encountered in divide\n",
      "  return num / den\n"
     ]
    },
    {
     "data": {
      "text/plain": [
       "<Axes: >"
      ]
     },
     "execution_count": 30,
     "metadata": {},
     "output_type": "execute_result"
    },
    {
     "data": {
      "image/png": "[encoded data removed]",
      "text/plain": [
       "<Figure size 640x480 with 1 Axes>"
      ]
     },
     "metadata": {},
     "output_type": "display_data"
    }
   ],
   "source": [
    "az.plot_energy(trace)"
   ]
  },
  {
   "cell_type": "code",
   "execution_count": 31,
   "id": "fdda2180",
   "metadata": {},
   "outputs": [
    {
     "data": {
      "text/plain": [
       "array([<Axes: title={'center': '95.0% HDI'}>,\n",
       "       <Axes: title={'center': 'r_hat'}>], dtype=object)"
      ]
     },
     "execution_count": 31,
     "metadata": {},
     "output_type": "execute_result"
    },
    {
     "data": {
      "image/png": "[encoded data removed]",
      "text/plain": [
       "<Figure size 800x410 with 2 Axes>"
      ]
     },
     "metadata": {},
     "output_type": "display_data"
    }
   ],
   "source": [
    "az.plot_forest(trace, var_names=[\"gamma\"], combined=True, hdi_prob=0.95, r_hat=True)\n"
   ]
  },
  {
   "cell_type": "markdown",
   "id": "14f4fd41",
   "metadata": {},
   "source": [
    "## Posterior Analysis"
   ]
  },
  {
   "cell_type": "code",
   "execution_count": null,
   "id": "d673700f",
   "metadata": {},
   "outputs": [
    {
     "name": "stderr",
     "output_type": "stream",
     "text": [
      "/Users/administrator/miniforge3/envs/mgme_task/lib/python3.10/site-packages/arviz/stats/density_utils.py:488: UserWarning: Your data appears to have a single value or no finite values\n",
      "  warnings.warn(\"Your data appears to have a single value or no finite values\")\n",
      "/Users/administrator/miniforge3/envs/mgme_task/lib/python3.10/site-packages/arviz/stats/density_utils.py:488: UserWarning: Your data appears to have a single value or no finite values\n",
      "  warnings.warn(\"Your data appears to have a single value or no finite values\")\n",
      "/Users/administrator/miniforge3/envs/mgme_task/lib/python3.10/site-packages/arviz/stats/density_utils.py:488: UserWarning: Your data appears to have a single value or no finite values\n",
      "  warnings.warn(\"Your data appears to have a single value or no finite values\")\n",
      "/Users/administrator/miniforge3/envs/mgme_task/lib/python3.10/site-packages/arviz/stats/density_utils.py:488: UserWarning: Your data appears to have a single value or no finite values\n",
      "  warnings.warn(\"Your data appears to have a single value or no finite values\")\n",
      "/Users/administrator/miniforge3/envs/mgme_task/lib/python3.10/site-packages/arviz/stats/density_utils.py:488: UserWarning: Your data appears to have a single value or no finite values\n",
      "  warnings.warn(\"Your data appears to have a single value or no finite values\")\n",
      "/Users/administrator/miniforge3/envs/mgme_task/lib/python3.10/site-packages/arviz/stats/density_utils.py:488: UserWarning: Your data appears to have a single value or no finite values\n",
      "  warnings.warn(\"Your data appears to have a single value or no finite values\")\n",
      "/Users/administrator/miniforge3/envs/mgme_task/lib/python3.10/site-packages/arviz/stats/density_utils.py:488: UserWarning: Your data appears to have a single value or no finite values\n",
      "  warnings.warn(\"Your data appears to have a single value or no finite values\")\n",
      "/Users/administrator/miniforge3/envs/mgme_task/lib/python3.10/site-packages/arviz/stats/density_utils.py:488: UserWarning: Your data appears to have a single value or no finite values\n",
      "  warnings.warn(\"Your data appears to have a single value or no finite values\")\n",
      "/Users/administrator/miniforge3/envs/mgme_task/lib/python3.10/site-packages/arviz/stats/diagnostics.py:596: RuntimeWarning: invalid value encountered in scalar divide\n",
      "  (between_chain_variance / within_chain_variance + num_samples - 1) / (num_samples)\n",
      "/Users/administrator/miniforge3/envs/mgme_task/lib/python3.10/site-packages/arviz/stats/diagnostics.py:991: RuntimeWarning: invalid value encountered in scalar divide\n",
      "  varsd = varvar / evar / 4\n"
     ]
    },
    {
     "data": {
      "application/vnd.microsoft.datawrangler.viewer.v0+json": {
       "columns": [
        {
         "name": "index",
         "rawType": "object",
         "type": "string"
        },
        {
         "name": "mean",
         "rawType": "float64",
         "type": "float"
        },
        {
         "name": "sd",
         "rawType": "float64",
         "type": "float"
        },
        {
         "name": "hdi_3%",
         "rawType": "float64",
         "type": "float"
        },
        {
         "name": "hdi_97%",
         "rawType": "float64",
         "type": "float"
        },
        {
         "name": "mcse_mean",
         "rawType": "float64",
         "type": "float"
        },
        {
         "name": "mcse_sd",
         "rawType": "float64",
         "type": "float"
        },
        {
         "name": "ess_bulk",
         "rawType": "float64",
         "type": "float"
        },
        {
         "name": "ess_tail",
         "rawType": "float64",
         "type": "float"
        },
        {
         "name": "r_hat",
         "rawType": "float64",
         "type": "float"
        }
       ],
       "ref": "809a013d-911e-4285-af5d-0c4324a5e440",
       "rows": [
        [
         "error",
         "0.56",
         "0.42",
         "0.06",
         "1.0",
         "0.21",
         "0.03",
         "4.02",
         "4.02",
         "5877473739351860.0"
        ],
        [
         "theta",
         "1.48",
         "0.5",
         "0.98",
         "1.99",
         "0.25",
         "0.0",
         "4.02",
         "4.02",
         "5341631286276744.0"
        ],
        [
         "Lambda",
         "1.23",
         "0.24",
         "0.98",
         "1.62",
         "0.12",
         "0.06",
         "4.02",
         "4.02",
         "5341631286276744.0"
        ],
        [
         "tau",
         "1.67",
         "0.76",
         "0.8",
         "2.73",
         "0.38",
         "0.13",
         "4.02",
         "4.02",
         "5877473739351860.0"
        ],
        [
         "alpha",
         "2.36",
         "1.25",
         "1.0",
         "4.25",
         "0.62",
         "0.26",
         "4.02",
         "4.02",
         "5341631286276744.0"
        ],
        [
         "beta",
         "1.33",
         "0.44",
         "0.78",
         "2.01",
         "0.22",
         "0.11",
         "4.02",
         "4.02",
         "5877473739351860.0"
        ],
        [
         "gamma",
         "1.94",
         "0.36",
         "1.53",
         "2.52",
         "0.18",
         "0.09",
         "4.02",
         "4.02",
         "5341631286276744.0"
        ],
        [
         "prob[0]",
         "1.0",
         "0.0",
         "1.0",
         "1.0",
         "0.0",
         null,
         "8000.0",
         "8000.0",
         null
        ],
        [
         "prob[1]",
         "1.0",
         "0.0",
         "1.0",
         "1.0",
         "0.0",
         null,
         "8000.0",
         "8000.0",
         null
        ],
        [
         "prob[2]",
         "1.0",
         "0.0",
         "1.0",
         "1.0",
         "0.0",
         null,
         "8000.0",
         "8000.0",
         null
        ],
        [
         "prob[3]",
         "1.0",
         "0.0",
         "1.0",
         "1.0",
         "0.0",
         null,
         "8000.0",
         "8000.0",
         null
        ],
        [
         "prob[4]",
         "1.0",
         "0.0",
         "1.0",
         "1.0",
         "0.0",
         null,
         "8000.0",
         "8000.0",
         null
        ],
        [
         "prob[5]",
         "1.0",
         "0.0",
         "1.0",
         "1.0",
         "0.0",
         null,
         "8000.0",
         "8000.0",
         null
        ],
        [
         "prob[6]",
         "1.0",
         "0.0",
         "1.0",
         "1.0",
         "0.0",
         null,
         "8000.0",
         "8000.0",
         null
        ],
        [
         "prob[7]",
         "1.0",
         "0.0",
         "1.0",
         "1.0",
         "0.0",
         null,
         "8000.0",
         "8000.0",
         null
        ],
        [
         "prob[8]",
         "1.0",
         "0.0",
         "1.0",
         "1.0",
         "0.0",
         null,
         "8000.0",
         "8000.0",
         null
        ],
        [
         "prob[9]",
         "1.0",
         "0.0",
         "1.0",
         "1.0",
         "0.0",
         null,
         "8000.0",
         "8000.0",
         null
        ],
        [
         "prob[10]",
         "1.0",
         "0.0",
         "1.0",
         "1.0",
         "0.0",
         null,
         "8000.0",
         "8000.0",
         null
        ],
        [
         "prob[11]",
         "1.0",
         "0.0",
         "1.0",
         "1.0",
         "0.0",
         null,
         "8000.0",
         "8000.0",
         null
        ],
        [
         "prob[12]",
         "1.0",
         "0.0",
         "1.0",
         "1.0",
         "0.0",
         null,
         "8000.0",
         "8000.0",
         null
        ],
        [
         "prob[13]",
         "1.0",
         "0.0",
         "1.0",
         "1.0",
         "0.0",
         null,
         "8000.0",
         "8000.0",
         null
        ],
        [
         "prob[14]",
         "1.0",
         "0.0",
         "1.0",
         "1.0",
         "0.0",
         null,
         "8000.0",
         "8000.0",
         null
        ],
        [
         "prob[15]",
         "1.0",
         "0.0",
         "1.0",
         "1.0",
         "0.0",
         null,
         "8000.0",
         "8000.0",
         null
        ],
        [
         "prob[16]",
         "1.0",
         "0.0",
         "1.0",
         "1.0",
         "0.0",
         null,
         "8000.0",
         "8000.0",
         null
        ],
        [
         "prob[17]",
         "1.0",
         "0.0",
         "1.0",
         "1.0",
         "0.0",
         null,
         "8000.0",
         "8000.0",
         null
        ],
        [
         "prob[18]",
         "1.0",
         "0.0",
         "1.0",
         "1.0",
         "0.0",
         null,
         "8000.0",
         "8000.0",
         null
        ],
        [
         "prob[19]",
         "1.0",
         "0.0",
         "1.0",
         "1.0",
         "0.0",
         null,
         "8000.0",
         "8000.0",
         null
        ],
        [
         "prob[20]",
         "1.0",
         "0.0",
         "1.0",
         "1.0",
         "0.0",
         null,
         "8000.0",
         "8000.0",
         null
        ],
        [
         "prob[21]",
         "1.0",
         "0.0",
         "1.0",
         "1.0",
         "0.0",
         null,
         "8000.0",
         "8000.0",
         null
        ],
        [
         "prob[22]",
         "1.0",
         "0.0",
         "1.0",
         "1.0",
         "0.0",
         null,
         "8000.0",
         "8000.0",
         null
        ],
        [
         "prob[23]",
         "1.0",
         "0.0",
         "1.0",
         "1.0",
         "0.0",
         null,
         "8000.0",
         "8000.0",
         null
        ],
        [
         "prob[24]",
         "1.0",
         "0.0",
         "1.0",
         "1.0",
         "0.0",
         null,
         "8000.0",
         "8000.0",
         null
        ],
        [
         "prob[25]",
         "1.0",
         "0.0",
         "1.0",
         "1.0",
         "0.0",
         null,
         "8000.0",
         "8000.0",
         null
        ],
        [
         "prob[26]",
         "1.0",
         "0.0",
         "1.0",
         "1.0",
         "0.0",
         null,
         "8000.0",
         "8000.0",
         null
        ],
        [
         "prob[27]",
         "1.0",
         "0.0",
         "1.0",
         "1.0",
         "0.0",
         null,
         "8000.0",
         "8000.0",
         null
        ],
        [
         "prob[28]",
         "1.0",
         "0.0",
         "1.0",
         "1.0",
         "0.0",
         null,
         "8000.0",
         "8000.0",
         null
        ],
        [
         "prob[29]",
         "1.0",
         "0.0",
         "1.0",
         "1.0",
         "0.0",
         null,
         "8000.0",
         "8000.0",
         null
        ],
        [
         "prob[30]",
         "1.0",
         "0.0",
         "1.0",
         "1.0",
         "0.0",
         null,
         "8000.0",
         "8000.0",
         null
        ],
        [
         "prob[31]",
         "1.0",
         "0.0",
         "1.0",
         "1.0",
         "0.0",
         null,
         "8000.0",
         "8000.0",
         null
        ],
        [
         "prob[32]",
         "1.0",
         "0.0",
         "1.0",
         "1.0",
         "0.0",
         null,
         "8000.0",
         "8000.0",
         null
        ],
        [
         "prob[33]",
         "1.0",
         "0.0",
         "1.0",
         "1.0",
         "0.0",
         null,
         "8000.0",
         "8000.0",
         null
        ],
        [
         "prob[34]",
         "1.0",
         "0.0",
         "1.0",
         "1.0",
         "0.0",
         null,
         "8000.0",
         "8000.0",
         null
        ],
        [
         "prob[35]",
         "1.0",
         "0.0",
         "1.0",
         "1.0",
         "0.0",
         null,
         "8000.0",
         "8000.0",
         null
        ],
        [
         "prob[36]",
         "1.0",
         "0.0",
         "1.0",
         "1.0",
         "0.0",
         null,
         "8000.0",
         "8000.0",
         null
        ],
        [
         "prob[37]",
         "1.0",
         "0.0",
         "1.0",
         "1.0",
         "0.0",
         null,
         "8000.0",
         "8000.0",
         null
        ],
        [
         "prob[38]",
         "1.0",
         "0.0",
         "1.0",
         "1.0",
         "0.0",
         null,
         "8000.0",
         "8000.0",
         null
        ],
        [
         "prob[39]",
         "1.0",
         "0.0",
         "1.0",
         "1.0",
         "0.0",
         null,
         "8000.0",
         "8000.0",
         null
        ],
        [
         "prob[40]",
         "1.0",
         "0.0",
         "1.0",
         "1.0",
         "0.0",
         null,
         "8000.0",
         "8000.0",
         null
        ],
        [
         "prob[41]",
         "1.0",
         "0.0",
         "1.0",
         "1.0",
         "0.0",
         null,
         "8000.0",
         "8000.0",
         null
        ],
        [
         "prob[42]",
         "1.0",
         "0.0",
         "1.0",
         "1.0",
         "0.0",
         null,
         "8000.0",
         "8000.0",
         null
        ]
       ],
       "shape": {
        "columns": 9,
        "rows": 2782
       }
      },
      "text/html": [
       "<div>\n",
       "<style scoped>\n",
       "    .dataframe tbody tr th:only-of-type {\n",
       "        vertical-align: middle;\n",
       "    }\n",
       "\n",
       "    .dataframe tbody tr th {\n",
       "        vertical-align: top;\n",
       "    }\n",
       "\n",
       "    .dataframe thead th {\n",
       "        text-align: right;\n",
       "    }\n",
       "</style>\n",
       "<table border=\"1\" class=\"dataframe\">\n",
       "  <thead>\n",
       "    <tr style=\"text-align: right;\">\n",
       "      <th></th>\n",
       "      <th>mean</th>\n",
       "      <th>sd</th>\n",
       "      <th>hdi_3%</th>\n",
       "      <th>hdi_97%</th>\n",
       "      <th>mcse_mean</th>\n",
       "      <th>mcse_sd</th>\n",
       "      <th>ess_bulk</th>\n",
       "      <th>ess_tail</th>\n",
       "      <th>r_hat</th>\n",
       "    </tr>\n",
       "  </thead>\n",
       "  <tbody>\n",
       "    <tr>\n",
       "      <th>error</th>\n",
       "      <td>0.56</td>\n",
       "      <td>0.42</td>\n",
       "      <td>0.06</td>\n",
       "      <td>1.00</td>\n",
       "      <td>0.21</td>\n",
       "      <td>0.03</td>\n",
       "      <td>4.02</td>\n",
       "      <td>4.02</td>\n",
       "      <td>5.877474e+15</td>\n",
       "    </tr>\n",
       "    <tr>\n",
       "      <th>theta</th>\n",
       "      <td>1.48</td>\n",
       "      <td>0.50</td>\n",
       "      <td>0.98</td>\n",
       "      <td>1.99</td>\n",
       "      <td>0.25</td>\n",
       "      <td>0.00</td>\n",
       "      <td>4.02</td>\n",
       "      <td>4.02</td>\n",
       "      <td>5.341631e+15</td>\n",
       "    </tr>\n",
       "    <tr>\n",
       "      <th>Lambda</th>\n",
       "      <td>1.23</td>\n",
       "      <td>0.24</td>\n",
       "      <td>0.98</td>\n",
       "      <td>1.62</td>\n",
       "      <td>0.12</td>\n",
       "      <td>0.06</td>\n",
       "      <td>4.02</td>\n",
       "      <td>4.02</td>\n",
       "      <td>5.341631e+15</td>\n",
       "    </tr>\n",
       "    <tr>\n",
       "      <th>tau</th>\n",
       "      <td>1.67</td>\n",
       "      <td>0.76</td>\n",
       "      <td>0.80</td>\n",
       "      <td>2.73</td>\n",
       "      <td>0.38</td>\n",
       "      <td>0.13</td>\n",
       "      <td>4.02</td>\n",
       "      <td>4.02</td>\n",
       "      <td>5.877474e+15</td>\n",
       "    </tr>\n",
       "    <tr>\n",
       "      <th>alpha</th>\n",
       "      <td>2.36</td>\n",
       "      <td>1.25</td>\n",
       "      <td>1.00</td>\n",
       "      <td>4.25</td>\n",
       "      <td>0.62</td>\n",
       "      <td>0.26</td>\n",
       "      <td>4.02</td>\n",
       "      <td>4.02</td>\n",
       "      <td>5.341631e+15</td>\n",
       "    </tr>\n",
       "    <tr>\n",
       "      <th>...</th>\n",
       "      <td>...</td>\n",
       "      <td>...</td>\n",
       "      <td>...</td>\n",
       "      <td>...</td>\n",
       "      <td>...</td>\n",
       "      <td>...</td>\n",
       "      <td>...</td>\n",
       "      <td>...</td>\n",
       "      <td>...</td>\n",
       "    </tr>\n",
       "    <tr>\n",
       "      <th>prob[2770]</th>\n",
       "      <td>1.00</td>\n",
       "      <td>0.00</td>\n",
       "      <td>1.00</td>\n",
       "      <td>1.00</td>\n",
       "      <td>0.00</td>\n",
       "      <td>NaN</td>\n",
       "      <td>8000.00</td>\n",
       "      <td>8000.00</td>\n",
       "      <td>NaN</td>\n",
       "    </tr>\n",
       "    <tr>\n",
       "      <th>prob[2771]</th>\n",
       "      <td>1.00</td>\n",
       "      <td>0.00</td>\n",
       "      <td>1.00</td>\n",
       "      <td>1.00</td>\n",
       "      <td>0.00</td>\n",
       "      <td>NaN</td>\n",
       "      <td>8000.00</td>\n",
       "      <td>8000.00</td>\n",
       "      <td>NaN</td>\n",
       "    </tr>\n",
       "    <tr>\n",
       "      <th>prob[2772]</th>\n",
       "      <td>1.00</td>\n",
       "      <td>0.00</td>\n",
       "      <td>1.00</td>\n",
       "      <td>1.00</td>\n",
       "      <td>0.00</td>\n",
       "      <td>NaN</td>\n",
       "      <td>8000.00</td>\n",
       "      <td>8000.00</td>\n",
       "      <td>NaN</td>\n",
       "    </tr>\n",
       "    <tr>\n",
       "      <th>prob[2773]</th>\n",
       "      <td>1.00</td>\n",
       "      <td>0.00</td>\n",
       "      <td>1.00</td>\n",
       "      <td>1.00</td>\n",
       "      <td>0.00</td>\n",
       "      <td>NaN</td>\n",
       "      <td>8000.00</td>\n",
       "      <td>8000.00</td>\n",
       "      <td>NaN</td>\n",
       "    </tr>\n",
       "    <tr>\n",
       "      <th>prob[2774]</th>\n",
       "      <td>1.00</td>\n",
       "      <td>0.00</td>\n",
       "      <td>1.00</td>\n",
       "      <td>1.00</td>\n",
       "      <td>0.00</td>\n",
       "      <td>NaN</td>\n",
       "      <td>8000.00</td>\n",
       "      <td>8000.00</td>\n",
       "      <td>NaN</td>\n",
       "    </tr>\n",
       "  </tbody>\n",
       "</table>\n",
       "<p>2782 rows × 9 columns</p>\n",
       "</div>"
      ],
      "text/plain": [
       "            mean    sd  hdi_3%  hdi_97%  mcse_mean  mcse_sd  ess_bulk  \\\n",
       "error       0.56  0.42    0.06     1.00       0.21     0.03      4.02   \n",
       "theta       1.48  0.50    0.98     1.99       0.25     0.00      4.02   \n",
       "Lambda      1.23  0.24    0.98     1.62       0.12     0.06      4.02   \n",
       "tau         1.67  0.76    0.80     2.73       0.38     0.13      4.02   \n",
       "alpha       2.36  1.25    1.00     4.25       0.62     0.26      4.02   \n",
       "...          ...   ...     ...      ...        ...      ...       ...   \n",
       "prob[2770]  1.00  0.00    1.00     1.00       0.00      NaN   8000.00   \n",
       "prob[2771]  1.00  0.00    1.00     1.00       0.00      NaN   8000.00   \n",
       "prob[2772]  1.00  0.00    1.00     1.00       0.00      NaN   8000.00   \n",
       "prob[2773]  1.00  0.00    1.00     1.00       0.00      NaN   8000.00   \n",
       "prob[2774]  1.00  0.00    1.00     1.00       0.00      NaN   8000.00   \n",
       "\n",
       "            ess_tail         r_hat  \n",
       "error           4.02  5.877474e+15  \n",
       "theta           4.02  5.341631e+15  \n",
       "Lambda          4.02  5.341631e+15  \n",
       "tau             4.02  5.877474e+15  \n",
       "alpha           4.02  5.341631e+15  \n",
       "...              ...           ...  \n",
       "prob[2770]   8000.00           NaN  \n",
       "prob[2771]   8000.00           NaN  \n",
       "prob[2772]   8000.00           NaN  \n",
       "prob[2773]   8000.00           NaN  \n",
       "prob[2774]   8000.00           NaN  \n",
       "\n",
       "[2782 rows x 9 columns]"
      ]
     },
     "execution_count": 33,
     "metadata": {},
     "output_type": "execute_result"
    },
    {
     "data": {
      "image/png": "[encoded data removed]",
      "text/plain": [
       "<Figure size 1200x1600 with 16 Axes>"
      ]
     },
     "metadata": {},
     "output_type": "display_data"
    }
   ],
   "source": [
    "High R-hat values indicate poor convergence, often due to model complexity, identifiability issues, or insufficient tuning. Here are some suggestions:\n",
    "\n",
    "1. **Simplify the model:**  \n",
    "    - Fix some parameters (e.g., set `alpha` and `beta` to constants if theory allows).\n",
    "    - Remove or combine parameters that may be redundant.\n",
    "\n",
    "2. **Reparameterize:**  \n",
    "    - Use more informative priors.\n",
    "    - Check for strong correlations between parameters.\n",
    "\n",
    "3. **Increase tuning:**  \n",
    "    - Increase the `tune` parameter in `pm.sample()` (e.g., `tune=2000`).\n",
    "\n",
    "4. **Check data:**  \n",
    "    - Ensure data quality and that all columns are as expected.\n",
    "\n",
    "5. **Run diagnostics:**  \n",
    "    - Use `az.plot_trace(trace)` and `az.plot_pair(trace)` to inspect sampling.\n",
    "\n",
    "Try simplifying the model first (e.g., fix `alpha=0.9`, `beta=0.9`) and see if convergence improves.\n"
   ]
  }
 ],
 "metadata": {
  "kernelspec": {
   "display_name": "mgme_task",
   "language": "python",
   "name": "python3"
  },
  "language_info": {
   "codemirror_mode": {
    "name": "ipython",
    "version": 3
   },
   "file_extension": ".py",
   "mimetype": "text/x-python",
   "name": "python",
   "nbconvert_exporter": "python",
   "pygments_lexer": "ipython3",
   "version": "3.10.13"
  }
 },
 "nbformat": 4,
 "nbformat_minor": 5
}
